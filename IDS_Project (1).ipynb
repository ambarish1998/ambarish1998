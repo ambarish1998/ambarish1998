{
 "cells": [
  {
   "cell_type": "code",
   "execution_count": 1,
   "metadata": {},
   "outputs": [
    {
     "name": "stdout",
     "output_type": "stream",
     "text": [
      "0.23.1\n"
     ]
    }
   ],
   "source": [
    "import pandas as pd\n",
    "import numpy as np\n",
    "import matplotlib.pyplot as plt\n",
    "from sklearn.preprocessing import OneHotEncoder \n",
    "import seaborn as sns\n",
    "import sklearn\n",
    "print(sklearn.__version__)\n",
    "from sklearn.ensemble import ExtraTreesClassifier"
   ]
  },
  {
   "cell_type": "code",
   "execution_count": 2,
   "metadata": {},
   "outputs": [],
   "source": [
    "df = pd.read_csv(r'F:\\SOMETHING\\kdd99_20.csv', index_col=None)"
   ]
  },
  {
   "cell_type": "code",
   "execution_count": 3,
   "metadata": {},
   "outputs": [
    {
     "data": {
      "text/plain": [
       "(25192, 42)"
      ]
     },
     "execution_count": 3,
     "metadata": {},
     "output_type": "execute_result"
    }
   ],
   "source": [
    "df.shape"
   ]
  },
  {
   "cell_type": "code",
   "execution_count": 4,
   "metadata": {},
   "outputs": [
    {
     "name": "stdout",
     "output_type": "stream",
     "text": [
      "Read 25192 rows.\n"
     ]
    }
   ],
   "source": [
    "print(\"Read {} rows.\".format(len(df)))"
   ]
  },
  {
   "cell_type": "code",
   "execution_count": 5,
   "metadata": {},
   "outputs": [
    {
     "data": {
      "text/html": [
       "<div>\n",
       "<style scoped>\n",
       "    .dataframe tbody tr th:only-of-type {\n",
       "        vertical-align: middle;\n",
       "    }\n",
       "\n",
       "    .dataframe tbody tr th {\n",
       "        vertical-align: top;\n",
       "    }\n",
       "\n",
       "    .dataframe thead th {\n",
       "        text-align: right;\n",
       "    }\n",
       "</style>\n",
       "<table border=\"1\" class=\"dataframe\">\n",
       "  <thead>\n",
       "    <tr style=\"text-align: right;\">\n",
       "      <th></th>\n",
       "      <th>duration</th>\n",
       "      <th>src_bytes</th>\n",
       "      <th>dst_bytes</th>\n",
       "      <th>land</th>\n",
       "      <th>wrong_fragment</th>\n",
       "      <th>urgent</th>\n",
       "      <th>hot</th>\n",
       "      <th>num_failed_logins</th>\n",
       "      <th>logged_in</th>\n",
       "      <th>num_compromised</th>\n",
       "      <th>...</th>\n",
       "      <th>dst_host_count</th>\n",
       "      <th>dst_host_srv_count</th>\n",
       "      <th>dst_host_same_srv_rate</th>\n",
       "      <th>dst_host_same_src_port_rate</th>\n",
       "      <th>dst_host_srv_diff_host_rate</th>\n",
       "      <th>dst_host_serror_rate</th>\n",
       "      <th>dst_host_srv_serror_rate</th>\n",
       "      <th>dst_host_rerror_rate</th>\n",
       "      <th>dst_host_srv_rerror_rate</th>\n",
       "      <th>score</th>\n",
       "    </tr>\n",
       "  </thead>\n",
       "  <tbody>\n",
       "    <tr>\n",
       "      <th>count</th>\n",
       "      <td>25192.000000</td>\n",
       "      <td>2.519200e+04</td>\n",
       "      <td>2.519200e+04</td>\n",
       "      <td>25192.000000</td>\n",
       "      <td>25192.000000</td>\n",
       "      <td>25192.00000</td>\n",
       "      <td>25192.000000</td>\n",
       "      <td>25192.000000</td>\n",
       "      <td>25192.000000</td>\n",
       "      <td>25192.000000</td>\n",
       "      <td>...</td>\n",
       "      <td>25192.000000</td>\n",
       "      <td>25192.000000</td>\n",
       "      <td>25192.000000</td>\n",
       "      <td>25192.000000</td>\n",
       "      <td>25192.000000</td>\n",
       "      <td>25192.000000</td>\n",
       "      <td>25192.000000</td>\n",
       "      <td>25192.000000</td>\n",
       "      <td>25192.000000</td>\n",
       "      <td>25192.000000</td>\n",
       "    </tr>\n",
       "    <tr>\n",
       "      <th>mean</th>\n",
       "      <td>305.054104</td>\n",
       "      <td>2.433063e+04</td>\n",
       "      <td>3.491847e+03</td>\n",
       "      <td>0.000079</td>\n",
       "      <td>0.023738</td>\n",
       "      <td>0.00004</td>\n",
       "      <td>0.198039</td>\n",
       "      <td>0.001191</td>\n",
       "      <td>0.394768</td>\n",
       "      <td>0.227850</td>\n",
       "      <td>...</td>\n",
       "      <td>182.532074</td>\n",
       "      <td>115.063036</td>\n",
       "      <td>0.519791</td>\n",
       "      <td>0.147453</td>\n",
       "      <td>0.031844</td>\n",
       "      <td>0.285800</td>\n",
       "      <td>0.279846</td>\n",
       "      <td>0.117800</td>\n",
       "      <td>0.118769</td>\n",
       "      <td>19.487695</td>\n",
       "    </tr>\n",
       "    <tr>\n",
       "      <th>std</th>\n",
       "      <td>2686.555640</td>\n",
       "      <td>2.410805e+06</td>\n",
       "      <td>8.883072e+04</td>\n",
       "      <td>0.008910</td>\n",
       "      <td>0.260221</td>\n",
       "      <td>0.00630</td>\n",
       "      <td>2.154202</td>\n",
       "      <td>0.045418</td>\n",
       "      <td>0.488811</td>\n",
       "      <td>10.417352</td>\n",
       "      <td>...</td>\n",
       "      <td>98.993895</td>\n",
       "      <td>110.646850</td>\n",
       "      <td>0.448944</td>\n",
       "      <td>0.308367</td>\n",
       "      <td>0.110575</td>\n",
       "      <td>0.445316</td>\n",
       "      <td>0.446075</td>\n",
       "      <td>0.305869</td>\n",
       "      <td>0.317333</td>\n",
       "      <td>2.328541</td>\n",
       "    </tr>\n",
       "    <tr>\n",
       "      <th>min</th>\n",
       "      <td>0.000000</td>\n",
       "      <td>0.000000e+00</td>\n",
       "      <td>0.000000e+00</td>\n",
       "      <td>0.000000</td>\n",
       "      <td>0.000000</td>\n",
       "      <td>0.00000</td>\n",
       "      <td>0.000000</td>\n",
       "      <td>0.000000</td>\n",
       "      <td>0.000000</td>\n",
       "      <td>0.000000</td>\n",
       "      <td>...</td>\n",
       "      <td>0.000000</td>\n",
       "      <td>0.000000</td>\n",
       "      <td>0.000000</td>\n",
       "      <td>0.000000</td>\n",
       "      <td>0.000000</td>\n",
       "      <td>0.000000</td>\n",
       "      <td>0.000000</td>\n",
       "      <td>0.000000</td>\n",
       "      <td>0.000000</td>\n",
       "      <td>0.000000</td>\n",
       "    </tr>\n",
       "    <tr>\n",
       "      <th>25%</th>\n",
       "      <td>0.000000</td>\n",
       "      <td>0.000000e+00</td>\n",
       "      <td>0.000000e+00</td>\n",
       "      <td>0.000000</td>\n",
       "      <td>0.000000</td>\n",
       "      <td>0.00000</td>\n",
       "      <td>0.000000</td>\n",
       "      <td>0.000000</td>\n",
       "      <td>0.000000</td>\n",
       "      <td>0.000000</td>\n",
       "      <td>...</td>\n",
       "      <td>84.000000</td>\n",
       "      <td>10.000000</td>\n",
       "      <td>0.050000</td>\n",
       "      <td>0.000000</td>\n",
       "      <td>0.000000</td>\n",
       "      <td>0.000000</td>\n",
       "      <td>0.000000</td>\n",
       "      <td>0.000000</td>\n",
       "      <td>0.000000</td>\n",
       "      <td>18.000000</td>\n",
       "    </tr>\n",
       "    <tr>\n",
       "      <th>50%</th>\n",
       "      <td>0.000000</td>\n",
       "      <td>4.400000e+01</td>\n",
       "      <td>0.000000e+00</td>\n",
       "      <td>0.000000</td>\n",
       "      <td>0.000000</td>\n",
       "      <td>0.00000</td>\n",
       "      <td>0.000000</td>\n",
       "      <td>0.000000</td>\n",
       "      <td>0.000000</td>\n",
       "      <td>0.000000</td>\n",
       "      <td>...</td>\n",
       "      <td>255.000000</td>\n",
       "      <td>61.000000</td>\n",
       "      <td>0.510000</td>\n",
       "      <td>0.000000</td>\n",
       "      <td>0.000000</td>\n",
       "      <td>0.000000</td>\n",
       "      <td>0.000000</td>\n",
       "      <td>0.000000</td>\n",
       "      <td>0.000000</td>\n",
       "      <td>20.000000</td>\n",
       "    </tr>\n",
       "    <tr>\n",
       "      <th>75%</th>\n",
       "      <td>0.000000</td>\n",
       "      <td>2.790000e+02</td>\n",
       "      <td>5.302500e+02</td>\n",
       "      <td>0.000000</td>\n",
       "      <td>0.000000</td>\n",
       "      <td>0.00000</td>\n",
       "      <td>0.000000</td>\n",
       "      <td>0.000000</td>\n",
       "      <td>1.000000</td>\n",
       "      <td>0.000000</td>\n",
       "      <td>...</td>\n",
       "      <td>255.000000</td>\n",
       "      <td>255.000000</td>\n",
       "      <td>1.000000</td>\n",
       "      <td>0.060000</td>\n",
       "      <td>0.020000</td>\n",
       "      <td>1.000000</td>\n",
       "      <td>1.000000</td>\n",
       "      <td>0.000000</td>\n",
       "      <td>0.000000</td>\n",
       "      <td>21.000000</td>\n",
       "    </tr>\n",
       "    <tr>\n",
       "      <th>max</th>\n",
       "      <td>42862.000000</td>\n",
       "      <td>3.817091e+08</td>\n",
       "      <td>5.151385e+06</td>\n",
       "      <td>1.000000</td>\n",
       "      <td>3.000000</td>\n",
       "      <td>1.00000</td>\n",
       "      <td>77.000000</td>\n",
       "      <td>4.000000</td>\n",
       "      <td>1.000000</td>\n",
       "      <td>884.000000</td>\n",
       "      <td>...</td>\n",
       "      <td>255.000000</td>\n",
       "      <td>255.000000</td>\n",
       "      <td>1.000000</td>\n",
       "      <td>1.000000</td>\n",
       "      <td>1.000000</td>\n",
       "      <td>1.000000</td>\n",
       "      <td>1.000000</td>\n",
       "      <td>1.000000</td>\n",
       "      <td>1.000000</td>\n",
       "      <td>21.000000</td>\n",
       "    </tr>\n",
       "  </tbody>\n",
       "</table>\n",
       "<p>8 rows × 38 columns</p>\n",
       "</div>"
      ],
      "text/plain": [
       "           duration     src_bytes     dst_bytes          land  wrong_fragment  \\\n",
       "count  25192.000000  2.519200e+04  2.519200e+04  25192.000000    25192.000000   \n",
       "mean     305.054104  2.433063e+04  3.491847e+03      0.000079        0.023738   \n",
       "std     2686.555640  2.410805e+06  8.883072e+04      0.008910        0.260221   \n",
       "min        0.000000  0.000000e+00  0.000000e+00      0.000000        0.000000   \n",
       "25%        0.000000  0.000000e+00  0.000000e+00      0.000000        0.000000   \n",
       "50%        0.000000  4.400000e+01  0.000000e+00      0.000000        0.000000   \n",
       "75%        0.000000  2.790000e+02  5.302500e+02      0.000000        0.000000   \n",
       "max    42862.000000  3.817091e+08  5.151385e+06      1.000000        3.000000   \n",
       "\n",
       "            urgent           hot  num_failed_logins     logged_in  \\\n",
       "count  25192.00000  25192.000000       25192.000000  25192.000000   \n",
       "mean       0.00004      0.198039           0.001191      0.394768   \n",
       "std        0.00630      2.154202           0.045418      0.488811   \n",
       "min        0.00000      0.000000           0.000000      0.000000   \n",
       "25%        0.00000      0.000000           0.000000      0.000000   \n",
       "50%        0.00000      0.000000           0.000000      0.000000   \n",
       "75%        0.00000      0.000000           0.000000      1.000000   \n",
       "max        1.00000     77.000000           4.000000      1.000000   \n",
       "\n",
       "       num_compromised  ...  dst_host_count  dst_host_srv_count  \\\n",
       "count     25192.000000  ...    25192.000000        25192.000000   \n",
       "mean          0.227850  ...      182.532074          115.063036   \n",
       "std          10.417352  ...       98.993895          110.646850   \n",
       "min           0.000000  ...        0.000000            0.000000   \n",
       "25%           0.000000  ...       84.000000           10.000000   \n",
       "50%           0.000000  ...      255.000000           61.000000   \n",
       "75%           0.000000  ...      255.000000          255.000000   \n",
       "max         884.000000  ...      255.000000          255.000000   \n",
       "\n",
       "       dst_host_same_srv_rate  dst_host_same_src_port_rate  \\\n",
       "count            25192.000000                 25192.000000   \n",
       "mean                 0.519791                     0.147453   \n",
       "std                  0.448944                     0.308367   \n",
       "min                  0.000000                     0.000000   \n",
       "25%                  0.050000                     0.000000   \n",
       "50%                  0.510000                     0.000000   \n",
       "75%                  1.000000                     0.060000   \n",
       "max                  1.000000                     1.000000   \n",
       "\n",
       "       dst_host_srv_diff_host_rate  dst_host_serror_rate  \\\n",
       "count                 25192.000000          25192.000000   \n",
       "mean                      0.031844              0.285800   \n",
       "std                       0.110575              0.445316   \n",
       "min                       0.000000              0.000000   \n",
       "25%                       0.000000              0.000000   \n",
       "50%                       0.000000              0.000000   \n",
       "75%                       0.020000              1.000000   \n",
       "max                       1.000000              1.000000   \n",
       "\n",
       "       dst_host_srv_serror_rate  dst_host_rerror_rate  \\\n",
       "count              25192.000000          25192.000000   \n",
       "mean                   0.279846              0.117800   \n",
       "std                    0.446075              0.305869   \n",
       "min                    0.000000              0.000000   \n",
       "25%                    0.000000              0.000000   \n",
       "50%                    0.000000              0.000000   \n",
       "75%                    1.000000              0.000000   \n",
       "max                    1.000000              1.000000   \n",
       "\n",
       "       dst_host_srv_rerror_rate         score  \n",
       "count              25192.000000  25192.000000  \n",
       "mean                   0.118769     19.487695  \n",
       "std                    0.317333      2.328541  \n",
       "min                    0.000000      0.000000  \n",
       "25%                    0.000000     18.000000  \n",
       "50%                    0.000000     20.000000  \n",
       "75%                    0.000000     21.000000  \n",
       "max                    1.000000     21.000000  \n",
       "\n",
       "[8 rows x 38 columns]"
      ]
     },
     "execution_count": 5,
     "metadata": {},
     "output_type": "execute_result"
    }
   ],
   "source": [
    "df.describe()"
   ]
  },
  {
   "cell_type": "code",
   "execution_count": 6,
   "metadata": {},
   "outputs": [],
   "source": [
    "df.dropna(inplace=True,axis=1)\n",
    "df1 = df.drop('score',axis = 1)"
   ]
  },
  {
   "cell_type": "code",
   "execution_count": 7,
   "metadata": {},
   "outputs": [
    {
     "data": {
      "text/html": [
       "<div>\n",
       "<style scoped>\n",
       "    .dataframe tbody tr th:only-of-type {\n",
       "        vertical-align: middle;\n",
       "    }\n",
       "\n",
       "    .dataframe tbody tr th {\n",
       "        vertical-align: top;\n",
       "    }\n",
       "\n",
       "    .dataframe thead th {\n",
       "        text-align: right;\n",
       "    }\n",
       "</style>\n",
       "<table border=\"1\" class=\"dataframe\">\n",
       "  <thead>\n",
       "    <tr style=\"text-align: right;\">\n",
       "      <th></th>\n",
       "      <th>duration</th>\n",
       "      <th>protocol_type</th>\n",
       "      <th>service</th>\n",
       "      <th>flag</th>\n",
       "      <th>src_bytes</th>\n",
       "      <th>dst_bytes</th>\n",
       "      <th>land</th>\n",
       "      <th>wrong_fragment</th>\n",
       "      <th>urgent</th>\n",
       "      <th>hot</th>\n",
       "      <th>...</th>\n",
       "      <th>dst_host_count</th>\n",
       "      <th>dst_host_srv_count</th>\n",
       "      <th>dst_host_same_srv_rate</th>\n",
       "      <th>dst_host_same_src_port_rate</th>\n",
       "      <th>dst_host_srv_diff_host_rate</th>\n",
       "      <th>dst_host_serror_rate</th>\n",
       "      <th>dst_host_srv_serror_rate</th>\n",
       "      <th>dst_host_rerror_rate</th>\n",
       "      <th>dst_host_srv_rerror_rate</th>\n",
       "      <th>outcome</th>\n",
       "    </tr>\n",
       "  </thead>\n",
       "  <tbody>\n",
       "    <tr>\n",
       "      <th>0</th>\n",
       "      <td>0</td>\n",
       "      <td>tcp</td>\n",
       "      <td>ftp_data</td>\n",
       "      <td>SF</td>\n",
       "      <td>491</td>\n",
       "      <td>0</td>\n",
       "      <td>0</td>\n",
       "      <td>0</td>\n",
       "      <td>0</td>\n",
       "      <td>0</td>\n",
       "      <td>...</td>\n",
       "      <td>150</td>\n",
       "      <td>25</td>\n",
       "      <td>0.17</td>\n",
       "      <td>0.17</td>\n",
       "      <td>0.00</td>\n",
       "      <td>0.00</td>\n",
       "      <td>0.00</td>\n",
       "      <td>0.05</td>\n",
       "      <td>0.00</td>\n",
       "      <td>normal</td>\n",
       "    </tr>\n",
       "    <tr>\n",
       "      <th>1</th>\n",
       "      <td>0</td>\n",
       "      <td>udp</td>\n",
       "      <td>other</td>\n",
       "      <td>SF</td>\n",
       "      <td>146</td>\n",
       "      <td>0</td>\n",
       "      <td>0</td>\n",
       "      <td>0</td>\n",
       "      <td>0</td>\n",
       "      <td>0</td>\n",
       "      <td>...</td>\n",
       "      <td>255</td>\n",
       "      <td>1</td>\n",
       "      <td>0.00</td>\n",
       "      <td>0.88</td>\n",
       "      <td>0.00</td>\n",
       "      <td>0.00</td>\n",
       "      <td>0.00</td>\n",
       "      <td>0.00</td>\n",
       "      <td>0.00</td>\n",
       "      <td>normal</td>\n",
       "    </tr>\n",
       "    <tr>\n",
       "      <th>2</th>\n",
       "      <td>0</td>\n",
       "      <td>tcp</td>\n",
       "      <td>private</td>\n",
       "      <td>S0</td>\n",
       "      <td>0</td>\n",
       "      <td>0</td>\n",
       "      <td>0</td>\n",
       "      <td>0</td>\n",
       "      <td>0</td>\n",
       "      <td>0</td>\n",
       "      <td>...</td>\n",
       "      <td>255</td>\n",
       "      <td>26</td>\n",
       "      <td>0.10</td>\n",
       "      <td>0.00</td>\n",
       "      <td>0.00</td>\n",
       "      <td>1.00</td>\n",
       "      <td>1.00</td>\n",
       "      <td>0.00</td>\n",
       "      <td>0.00</td>\n",
       "      <td>neptune</td>\n",
       "    </tr>\n",
       "    <tr>\n",
       "      <th>3</th>\n",
       "      <td>0</td>\n",
       "      <td>tcp</td>\n",
       "      <td>http</td>\n",
       "      <td>SF</td>\n",
       "      <td>232</td>\n",
       "      <td>8153</td>\n",
       "      <td>0</td>\n",
       "      <td>0</td>\n",
       "      <td>0</td>\n",
       "      <td>0</td>\n",
       "      <td>...</td>\n",
       "      <td>30</td>\n",
       "      <td>255</td>\n",
       "      <td>1.00</td>\n",
       "      <td>0.03</td>\n",
       "      <td>0.04</td>\n",
       "      <td>0.03</td>\n",
       "      <td>0.01</td>\n",
       "      <td>0.00</td>\n",
       "      <td>0.01</td>\n",
       "      <td>normal</td>\n",
       "    </tr>\n",
       "    <tr>\n",
       "      <th>4</th>\n",
       "      <td>0</td>\n",
       "      <td>tcp</td>\n",
       "      <td>http</td>\n",
       "      <td>SF</td>\n",
       "      <td>199</td>\n",
       "      <td>420</td>\n",
       "      <td>0</td>\n",
       "      <td>0</td>\n",
       "      <td>0</td>\n",
       "      <td>0</td>\n",
       "      <td>...</td>\n",
       "      <td>255</td>\n",
       "      <td>255</td>\n",
       "      <td>1.00</td>\n",
       "      <td>0.00</td>\n",
       "      <td>0.00</td>\n",
       "      <td>0.00</td>\n",
       "      <td>0.00</td>\n",
       "      <td>0.00</td>\n",
       "      <td>0.00</td>\n",
       "      <td>normal</td>\n",
       "    </tr>\n",
       "  </tbody>\n",
       "</table>\n",
       "<p>5 rows × 41 columns</p>\n",
       "</div>"
      ],
      "text/plain": [
       "   duration protocol_type   service flag  src_bytes  dst_bytes  land  \\\n",
       "0         0           tcp  ftp_data   SF        491          0     0   \n",
       "1         0           udp     other   SF        146          0     0   \n",
       "2         0           tcp   private   S0          0          0     0   \n",
       "3         0           tcp      http   SF        232       8153     0   \n",
       "4         0           tcp      http   SF        199        420     0   \n",
       "\n",
       "   wrong_fragment  urgent  hot  ...  dst_host_count  dst_host_srv_count  \\\n",
       "0               0       0    0  ...             150                  25   \n",
       "1               0       0    0  ...             255                   1   \n",
       "2               0       0    0  ...             255                  26   \n",
       "3               0       0    0  ...              30                 255   \n",
       "4               0       0    0  ...             255                 255   \n",
       "\n",
       "   dst_host_same_srv_rate  dst_host_same_src_port_rate  \\\n",
       "0                    0.17                         0.17   \n",
       "1                    0.00                         0.88   \n",
       "2                    0.10                         0.00   \n",
       "3                    1.00                         0.03   \n",
       "4                    1.00                         0.00   \n",
       "\n",
       "   dst_host_srv_diff_host_rate  dst_host_serror_rate  \\\n",
       "0                         0.00                  0.00   \n",
       "1                         0.00                  0.00   \n",
       "2                         0.00                  1.00   \n",
       "3                         0.04                  0.03   \n",
       "4                         0.00                  0.00   \n",
       "\n",
       "   dst_host_srv_serror_rate  dst_host_rerror_rate  dst_host_srv_rerror_rate  \\\n",
       "0                      0.00                  0.05                      0.00   \n",
       "1                      0.00                  0.00                      0.00   \n",
       "2                      1.00                  0.00                      0.00   \n",
       "3                      0.01                  0.00                      0.01   \n",
       "4                      0.00                  0.00                      0.00   \n",
       "\n",
       "   outcome  \n",
       "0   normal  \n",
       "1   normal  \n",
       "2  neptune  \n",
       "3   normal  \n",
       "4   normal  \n",
       "\n",
       "[5 rows x 41 columns]"
      ]
     },
     "execution_count": 7,
     "metadata": {},
     "output_type": "execute_result"
    }
   ],
   "source": [
    "df1.head()"
   ]
  },
  {
   "cell_type": "code",
   "execution_count": 8,
   "metadata": {},
   "outputs": [
    {
     "name": "stdout",
     "output_type": "stream",
     "text": [
      "<class 'pandas.core.frame.DataFrame'>\n",
      "RangeIndex: 25192 entries, 0 to 25191\n",
      "Data columns (total 41 columns):\n",
      " #   Column                       Non-Null Count  Dtype  \n",
      "---  ------                       --------------  -----  \n",
      " 0   duration                     25192 non-null  int64  \n",
      " 1   protocol_type                25192 non-null  object \n",
      " 2   service                      25192 non-null  object \n",
      " 3   flag                         25192 non-null  object \n",
      " 4   src_bytes                    25192 non-null  int64  \n",
      " 5   dst_bytes                    25192 non-null  int64  \n",
      " 6   land                         25192 non-null  int64  \n",
      " 7   wrong_fragment               25192 non-null  int64  \n",
      " 8   urgent                       25192 non-null  int64  \n",
      " 9   hot                          25192 non-null  int64  \n",
      " 10  num_failed_logins            25192 non-null  int64  \n",
      " 11  logged_in                    25192 non-null  int64  \n",
      " 12  num_compromised              25192 non-null  int64  \n",
      " 13  root_shell                   25192 non-null  int64  \n",
      " 14  su_attempted                 25192 non-null  int64  \n",
      " 15  num_root                     25192 non-null  int64  \n",
      " 16  num_file_creations           25192 non-null  int64  \n",
      " 17  num_shells                   25192 non-null  int64  \n",
      " 18  num_access_files             25192 non-null  int64  \n",
      " 19  num_outbound_cmds            25192 non-null  int64  \n",
      " 20  is_host_login                25192 non-null  int64  \n",
      " 21  is_guest_login               25192 non-null  int64  \n",
      " 22  count                        25192 non-null  int64  \n",
      " 23  srv_count                    25192 non-null  int64  \n",
      " 24  serror_rate                  25192 non-null  float64\n",
      " 25  srv_serror_rate              25192 non-null  float64\n",
      " 26  rerror_rate                  25192 non-null  float64\n",
      " 27  srv_rerror_rate              25192 non-null  float64\n",
      " 28  same_srv_rate                25192 non-null  float64\n",
      " 29  diff_srv_rate                25192 non-null  float64\n",
      " 30  srv_diff_host_rate           25192 non-null  float64\n",
      " 31  dst_host_count               25192 non-null  int64  \n",
      " 32  dst_host_srv_count           25192 non-null  int64  \n",
      " 33  dst_host_same_srv_rate       25192 non-null  float64\n",
      " 34  dst_host_same_src_port_rate  25192 non-null  float64\n",
      " 35  dst_host_srv_diff_host_rate  25192 non-null  float64\n",
      " 36  dst_host_serror_rate         25192 non-null  float64\n",
      " 37  dst_host_srv_serror_rate     25192 non-null  float64\n",
      " 38  dst_host_rerror_rate         25192 non-null  float64\n",
      " 39  dst_host_srv_rerror_rate     25192 non-null  float64\n",
      " 40  outcome                      25192 non-null  object \n",
      "dtypes: float64(14), int64(23), object(4)\n",
      "memory usage: 7.9+ MB\n"
     ]
    }
   ],
   "source": [
    "df1.info()"
   ]
  },
  {
   "cell_type": "code",
   "execution_count": 9,
   "metadata": {},
   "outputs": [
    {
     "data": {
      "text/html": [
       "<div>\n",
       "<style scoped>\n",
       "    .dataframe tbody tr th:only-of-type {\n",
       "        vertical-align: middle;\n",
       "    }\n",
       "\n",
       "    .dataframe tbody tr th {\n",
       "        vertical-align: top;\n",
       "    }\n",
       "\n",
       "    .dataframe thead th {\n",
       "        text-align: right;\n",
       "    }\n",
       "</style>\n",
       "<table border=\"1\" class=\"dataframe\">\n",
       "  <thead>\n",
       "    <tr style=\"text-align: right;\">\n",
       "      <th></th>\n",
       "      <th>duration</th>\n",
       "      <th>protocol_type</th>\n",
       "      <th>service</th>\n",
       "      <th>flag</th>\n",
       "      <th>src_bytes</th>\n",
       "      <th>dst_bytes</th>\n",
       "      <th>land</th>\n",
       "      <th>wrong_fragment</th>\n",
       "      <th>urgent</th>\n",
       "      <th>hot</th>\n",
       "      <th>...</th>\n",
       "      <th>dst_host_count</th>\n",
       "      <th>dst_host_srv_count</th>\n",
       "      <th>dst_host_same_srv_rate</th>\n",
       "      <th>dst_host_same_src_port_rate</th>\n",
       "      <th>dst_host_srv_diff_host_rate</th>\n",
       "      <th>dst_host_serror_rate</th>\n",
       "      <th>dst_host_srv_serror_rate</th>\n",
       "      <th>dst_host_rerror_rate</th>\n",
       "      <th>dst_host_srv_rerror_rate</th>\n",
       "      <th>outcome</th>\n",
       "    </tr>\n",
       "  </thead>\n",
       "  <tbody>\n",
       "    <tr>\n",
       "      <th>0</th>\n",
       "      <td>0</td>\n",
       "      <td>tcp</td>\n",
       "      <td>ftp_data</td>\n",
       "      <td>SF</td>\n",
       "      <td>491</td>\n",
       "      <td>0</td>\n",
       "      <td>0</td>\n",
       "      <td>0</td>\n",
       "      <td>0</td>\n",
       "      <td>0</td>\n",
       "      <td>...</td>\n",
       "      <td>150</td>\n",
       "      <td>25</td>\n",
       "      <td>0.17</td>\n",
       "      <td>0.17</td>\n",
       "      <td>0.00</td>\n",
       "      <td>0.00</td>\n",
       "      <td>0.00</td>\n",
       "      <td>0.05</td>\n",
       "      <td>0.00</td>\n",
       "      <td>normal</td>\n",
       "    </tr>\n",
       "    <tr>\n",
       "      <th>1</th>\n",
       "      <td>0</td>\n",
       "      <td>udp</td>\n",
       "      <td>other</td>\n",
       "      <td>SF</td>\n",
       "      <td>146</td>\n",
       "      <td>0</td>\n",
       "      <td>0</td>\n",
       "      <td>0</td>\n",
       "      <td>0</td>\n",
       "      <td>0</td>\n",
       "      <td>...</td>\n",
       "      <td>255</td>\n",
       "      <td>1</td>\n",
       "      <td>0.00</td>\n",
       "      <td>0.88</td>\n",
       "      <td>0.00</td>\n",
       "      <td>0.00</td>\n",
       "      <td>0.00</td>\n",
       "      <td>0.00</td>\n",
       "      <td>0.00</td>\n",
       "      <td>normal</td>\n",
       "    </tr>\n",
       "    <tr>\n",
       "      <th>2</th>\n",
       "      <td>0</td>\n",
       "      <td>tcp</td>\n",
       "      <td>private</td>\n",
       "      <td>S0</td>\n",
       "      <td>0</td>\n",
       "      <td>0</td>\n",
       "      <td>0</td>\n",
       "      <td>0</td>\n",
       "      <td>0</td>\n",
       "      <td>0</td>\n",
       "      <td>...</td>\n",
       "      <td>255</td>\n",
       "      <td>26</td>\n",
       "      <td>0.10</td>\n",
       "      <td>0.00</td>\n",
       "      <td>0.00</td>\n",
       "      <td>1.00</td>\n",
       "      <td>1.00</td>\n",
       "      <td>0.00</td>\n",
       "      <td>0.00</td>\n",
       "      <td>neptune</td>\n",
       "    </tr>\n",
       "    <tr>\n",
       "      <th>3</th>\n",
       "      <td>0</td>\n",
       "      <td>tcp</td>\n",
       "      <td>http</td>\n",
       "      <td>SF</td>\n",
       "      <td>232</td>\n",
       "      <td>8153</td>\n",
       "      <td>0</td>\n",
       "      <td>0</td>\n",
       "      <td>0</td>\n",
       "      <td>0</td>\n",
       "      <td>...</td>\n",
       "      <td>30</td>\n",
       "      <td>255</td>\n",
       "      <td>1.00</td>\n",
       "      <td>0.03</td>\n",
       "      <td>0.04</td>\n",
       "      <td>0.03</td>\n",
       "      <td>0.01</td>\n",
       "      <td>0.00</td>\n",
       "      <td>0.01</td>\n",
       "      <td>normal</td>\n",
       "    </tr>\n",
       "    <tr>\n",
       "      <th>4</th>\n",
       "      <td>0</td>\n",
       "      <td>tcp</td>\n",
       "      <td>http</td>\n",
       "      <td>SF</td>\n",
       "      <td>199</td>\n",
       "      <td>420</td>\n",
       "      <td>0</td>\n",
       "      <td>0</td>\n",
       "      <td>0</td>\n",
       "      <td>0</td>\n",
       "      <td>...</td>\n",
       "      <td>255</td>\n",
       "      <td>255</td>\n",
       "      <td>1.00</td>\n",
       "      <td>0.00</td>\n",
       "      <td>0.00</td>\n",
       "      <td>0.00</td>\n",
       "      <td>0.00</td>\n",
       "      <td>0.00</td>\n",
       "      <td>0.00</td>\n",
       "      <td>normal</td>\n",
       "    </tr>\n",
       "    <tr>\n",
       "      <th>...</th>\n",
       "      <td>...</td>\n",
       "      <td>...</td>\n",
       "      <td>...</td>\n",
       "      <td>...</td>\n",
       "      <td>...</td>\n",
       "      <td>...</td>\n",
       "      <td>...</td>\n",
       "      <td>...</td>\n",
       "      <td>...</td>\n",
       "      <td>...</td>\n",
       "      <td>...</td>\n",
       "      <td>...</td>\n",
       "      <td>...</td>\n",
       "      <td>...</td>\n",
       "      <td>...</td>\n",
       "      <td>...</td>\n",
       "      <td>...</td>\n",
       "      <td>...</td>\n",
       "      <td>...</td>\n",
       "      <td>...</td>\n",
       "      <td>...</td>\n",
       "    </tr>\n",
       "    <tr>\n",
       "      <th>9995</th>\n",
       "      <td>0</td>\n",
       "      <td>tcp</td>\n",
       "      <td>uucp_path</td>\n",
       "      <td>S0</td>\n",
       "      <td>0</td>\n",
       "      <td>0</td>\n",
       "      <td>0</td>\n",
       "      <td>0</td>\n",
       "      <td>0</td>\n",
       "      <td>0</td>\n",
       "      <td>...</td>\n",
       "      <td>255</td>\n",
       "      <td>6</td>\n",
       "      <td>0.02</td>\n",
       "      <td>0.00</td>\n",
       "      <td>0.00</td>\n",
       "      <td>1.00</td>\n",
       "      <td>1.00</td>\n",
       "      <td>0.00</td>\n",
       "      <td>0.00</td>\n",
       "      <td>neptune</td>\n",
       "    </tr>\n",
       "    <tr>\n",
       "      <th>9996</th>\n",
       "      <td>0</td>\n",
       "      <td>tcp</td>\n",
       "      <td>http</td>\n",
       "      <td>SF</td>\n",
       "      <td>227</td>\n",
       "      <td>318</td>\n",
       "      <td>0</td>\n",
       "      <td>0</td>\n",
       "      <td>0</td>\n",
       "      <td>0</td>\n",
       "      <td>...</td>\n",
       "      <td>255</td>\n",
       "      <td>255</td>\n",
       "      <td>1.00</td>\n",
       "      <td>0.00</td>\n",
       "      <td>0.00</td>\n",
       "      <td>0.00</td>\n",
       "      <td>0.00</td>\n",
       "      <td>0.00</td>\n",
       "      <td>0.00</td>\n",
       "      <td>normal</td>\n",
       "    </tr>\n",
       "    <tr>\n",
       "      <th>9997</th>\n",
       "      <td>0</td>\n",
       "      <td>udp</td>\n",
       "      <td>domain_u</td>\n",
       "      <td>SF</td>\n",
       "      <td>44</td>\n",
       "      <td>126</td>\n",
       "      <td>0</td>\n",
       "      <td>0</td>\n",
       "      <td>0</td>\n",
       "      <td>0</td>\n",
       "      <td>...</td>\n",
       "      <td>255</td>\n",
       "      <td>252</td>\n",
       "      <td>0.99</td>\n",
       "      <td>0.00</td>\n",
       "      <td>0.00</td>\n",
       "      <td>0.00</td>\n",
       "      <td>0.00</td>\n",
       "      <td>0.00</td>\n",
       "      <td>0.00</td>\n",
       "      <td>normal</td>\n",
       "    </tr>\n",
       "    <tr>\n",
       "      <th>9998</th>\n",
       "      <td>0</td>\n",
       "      <td>tcp</td>\n",
       "      <td>private</td>\n",
       "      <td>REJ</td>\n",
       "      <td>0</td>\n",
       "      <td>0</td>\n",
       "      <td>0</td>\n",
       "      <td>0</td>\n",
       "      <td>0</td>\n",
       "      <td>0</td>\n",
       "      <td>...</td>\n",
       "      <td>255</td>\n",
       "      <td>8</td>\n",
       "      <td>0.03</td>\n",
       "      <td>0.00</td>\n",
       "      <td>0.00</td>\n",
       "      <td>0.00</td>\n",
       "      <td>0.00</td>\n",
       "      <td>1.00</td>\n",
       "      <td>1.00</td>\n",
       "      <td>neptune</td>\n",
       "    </tr>\n",
       "    <tr>\n",
       "      <th>9999</th>\n",
       "      <td>0</td>\n",
       "      <td>icmp</td>\n",
       "      <td>eco_i</td>\n",
       "      <td>SF</td>\n",
       "      <td>8</td>\n",
       "      <td>0</td>\n",
       "      <td>0</td>\n",
       "      <td>0</td>\n",
       "      <td>0</td>\n",
       "      <td>0</td>\n",
       "      <td>...</td>\n",
       "      <td>1</td>\n",
       "      <td>25</td>\n",
       "      <td>1.00</td>\n",
       "      <td>1.00</td>\n",
       "      <td>0.52</td>\n",
       "      <td>0.00</td>\n",
       "      <td>0.00</td>\n",
       "      <td>0.00</td>\n",
       "      <td>0.00</td>\n",
       "      <td>ipsweep</td>\n",
       "    </tr>\n",
       "  </tbody>\n",
       "</table>\n",
       "<p>10000 rows × 41 columns</p>\n",
       "</div>"
      ],
      "text/plain": [
       "      duration protocol_type    service flag  src_bytes  dst_bytes  land  \\\n",
       "0            0           tcp   ftp_data   SF        491          0     0   \n",
       "1            0           udp      other   SF        146          0     0   \n",
       "2            0           tcp    private   S0          0          0     0   \n",
       "3            0           tcp       http   SF        232       8153     0   \n",
       "4            0           tcp       http   SF        199        420     0   \n",
       "...        ...           ...        ...  ...        ...        ...   ...   \n",
       "9995         0           tcp  uucp_path   S0          0          0     0   \n",
       "9996         0           tcp       http   SF        227        318     0   \n",
       "9997         0           udp   domain_u   SF         44        126     0   \n",
       "9998         0           tcp    private  REJ          0          0     0   \n",
       "9999         0          icmp      eco_i   SF          8          0     0   \n",
       "\n",
       "      wrong_fragment  urgent  hot  ...  dst_host_count  dst_host_srv_count  \\\n",
       "0                  0       0    0  ...             150                  25   \n",
       "1                  0       0    0  ...             255                   1   \n",
       "2                  0       0    0  ...             255                  26   \n",
       "3                  0       0    0  ...              30                 255   \n",
       "4                  0       0    0  ...             255                 255   \n",
       "...              ...     ...  ...  ...             ...                 ...   \n",
       "9995               0       0    0  ...             255                   6   \n",
       "9996               0       0    0  ...             255                 255   \n",
       "9997               0       0    0  ...             255                 252   \n",
       "9998               0       0    0  ...             255                   8   \n",
       "9999               0       0    0  ...               1                  25   \n",
       "\n",
       "      dst_host_same_srv_rate  dst_host_same_src_port_rate  \\\n",
       "0                       0.17                         0.17   \n",
       "1                       0.00                         0.88   \n",
       "2                       0.10                         0.00   \n",
       "3                       1.00                         0.03   \n",
       "4                       1.00                         0.00   \n",
       "...                      ...                          ...   \n",
       "9995                    0.02                         0.00   \n",
       "9996                    1.00                         0.00   \n",
       "9997                    0.99                         0.00   \n",
       "9998                    0.03                         0.00   \n",
       "9999                    1.00                         1.00   \n",
       "\n",
       "      dst_host_srv_diff_host_rate  dst_host_serror_rate  \\\n",
       "0                            0.00                  0.00   \n",
       "1                            0.00                  0.00   \n",
       "2                            0.00                  1.00   \n",
       "3                            0.04                  0.03   \n",
       "4                            0.00                  0.00   \n",
       "...                           ...                   ...   \n",
       "9995                         0.00                  1.00   \n",
       "9996                         0.00                  0.00   \n",
       "9997                         0.00                  0.00   \n",
       "9998                         0.00                  0.00   \n",
       "9999                         0.52                  0.00   \n",
       "\n",
       "      dst_host_srv_serror_rate  dst_host_rerror_rate  \\\n",
       "0                         0.00                  0.05   \n",
       "1                         0.00                  0.00   \n",
       "2                         1.00                  0.00   \n",
       "3                         0.01                  0.00   \n",
       "4                         0.00                  0.00   \n",
       "...                        ...                   ...   \n",
       "9995                      1.00                  0.00   \n",
       "9996                      0.00                  0.00   \n",
       "9997                      0.00                  0.00   \n",
       "9998                      0.00                  1.00   \n",
       "9999                      0.00                  0.00   \n",
       "\n",
       "      dst_host_srv_rerror_rate  outcome  \n",
       "0                         0.00   normal  \n",
       "1                         0.00   normal  \n",
       "2                         0.00  neptune  \n",
       "3                         0.01   normal  \n",
       "4                         0.00   normal  \n",
       "...                        ...      ...  \n",
       "9995                      0.00  neptune  \n",
       "9996                      0.00   normal  \n",
       "9997                      0.00   normal  \n",
       "9998                      1.00  neptune  \n",
       "9999                      0.00  ipsweep  \n",
       "\n",
       "[10000 rows x 41 columns]"
      ]
     },
     "execution_count": 9,
     "metadata": {},
     "output_type": "execute_result"
    }
   ],
   "source": [
    "df2 = df1.head(10000)\n",
    "df2"
   ]
  },
  {
   "cell_type": "code",
   "execution_count": 10,
   "metadata": {},
   "outputs": [
    {
     "name": "stdout",
     "output_type": "stream",
     "text": [
      "normal             13449\n",
      "neptune             8282\n",
      "ipsweep              710\n",
      "satan                691\n",
      "portsweep            587\n",
      "smurf                529\n",
      "nmap                 301\n",
      "back                 196\n",
      "teardrop             188\n",
      "warezclient          181\n",
      "pod                   38\n",
      "guess_passwd          10\n",
      "warezmaster            7\n",
      "buffer_overflow        6\n",
      "imap                   5\n",
      "rootkit                4\n",
      "multihop               2\n",
      "phf                    2\n",
      "loadmodule             1\n",
      "ftp_write              1\n",
      "spy                    1\n",
      "land                   1\n",
      "Name: outcome, dtype: int64\n"
     ]
    }
   ],
   "source": [
    "print(df1['outcome'].value_counts())"
   ]
  },
  {
   "cell_type": "code",
   "execution_count": 11,
   "metadata": {},
   "outputs": [],
   "source": [
    "def bar_graph(feature):\n",
    "    df2[feature].value_counts().plot(kind=\"bar\")"
   ]
  },
  {
   "cell_type": "code",
   "execution_count": 12,
   "metadata": {},
   "outputs": [
    {
     "data": {
      "image/png": "[encoded data removed]",
      "text/plain": [
       "<Figure size 432x288 with 1 Axes>"
      ]
     },
     "metadata": {
      "needs_background": "light"
     },
     "output_type": "display_data"
    }
   ],
   "source": [
    "bar_graph('protocol_type')"
   ]
  },
  {
   "cell_type": "code",
   "execution_count": 13,
   "metadata": {},
   "outputs": [
    {
     "data": {
      "image/png": "[encoded data removed]",
      "text/plain": [
       "<Figure size 432x288 with 1 Axes>"
      ]
     },
     "metadata": {
      "needs_background": "light"
     },
     "output_type": "display_data"
    }
   ],
   "source": [
    "bar_graph('outcome')"
   ]
  },
  {
   "cell_type": "code",
   "execution_count": 14,
   "metadata": {},
   "outputs": [
    {
     "data": {
      "image/png": "[encoded data removed]",
      "text/plain": [
       "<Figure size 1080x216 with 1 Axes>"
      ]
     },
     "metadata": {
      "needs_background": "light"
     },
     "output_type": "display_data"
    }
   ],
   "source": [
    "plt.figure(figsize=(15,3))\n",
    "bar_graph('service')"
   ]
  },
  {
   "cell_type": "code",
   "execution_count": 15,
   "metadata": {},
   "outputs": [],
   "source": [
    "attacks_types = {\n",
    "'normal':'normal', \n",
    "'neptune':'dos',\n",
    "'ipsweep':'probe',\n",
    "'satan': 'probe',\n",
    "'portsweep':'probe',\n",
    "'smurf':'dos',\n",
    "'nmap':'probe',\n",
    "'back': 'r2l',\n",
    "'teardrop':'dos',\n",
    "'warezclient': 'r2l',\n",
    "'pod':'dos',\n",
    "'guess_passwd': 'r2l',\n",
    "'warezmaster': 'r2l',\n",
    "'buffer_overflow':'u2r',\n",
    "'imap': 'r2l',\n",
    "'rootkit':'u2r',            \n",
    "'phf': 'r2l',\n",
    "'multihop': 'r2l',\n",
    "'ftp_write': 'r2l',\n",
    "'land':'dos',\n",
    "'spy': 'r2l',\n",
    "'loadmodule':'u2r'            \n",
    "}"
   ]
  },
  {
   "cell_type": "code",
   "execution_count": 16,
   "metadata": {},
   "outputs": [],
   "source": [
    "df2 = pd.DataFrame(df1) \n",
    "df2['Attacks'] = df2['outcome'].map(attacks_types) "
   ]
  },
  {
   "cell_type": "code",
   "execution_count": 17,
   "metadata": {},
   "outputs": [
    {
     "data": {
      "text/html": [
       "<div>\n",
       "<style scoped>\n",
       "    .dataframe tbody tr th:only-of-type {\n",
       "        vertical-align: middle;\n",
       "    }\n",
       "\n",
       "    .dataframe tbody tr th {\n",
       "        vertical-align: top;\n",
       "    }\n",
       "\n",
       "    .dataframe thead th {\n",
       "        text-align: right;\n",
       "    }\n",
       "</style>\n",
       "<table border=\"1\" class=\"dataframe\">\n",
       "  <thead>\n",
       "    <tr style=\"text-align: right;\">\n",
       "      <th></th>\n",
       "      <th>duration</th>\n",
       "      <th>protocol_type</th>\n",
       "      <th>service</th>\n",
       "      <th>flag</th>\n",
       "      <th>src_bytes</th>\n",
       "      <th>dst_bytes</th>\n",
       "      <th>land</th>\n",
       "      <th>wrong_fragment</th>\n",
       "      <th>urgent</th>\n",
       "      <th>hot</th>\n",
       "      <th>...</th>\n",
       "      <th>dst_host_srv_count</th>\n",
       "      <th>dst_host_same_srv_rate</th>\n",
       "      <th>dst_host_same_src_port_rate</th>\n",
       "      <th>dst_host_srv_diff_host_rate</th>\n",
       "      <th>dst_host_serror_rate</th>\n",
       "      <th>dst_host_srv_serror_rate</th>\n",
       "      <th>dst_host_rerror_rate</th>\n",
       "      <th>dst_host_srv_rerror_rate</th>\n",
       "      <th>outcome</th>\n",
       "      <th>Attacks</th>\n",
       "    </tr>\n",
       "  </thead>\n",
       "  <tbody>\n",
       "    <tr>\n",
       "      <th>0</th>\n",
       "      <td>0</td>\n",
       "      <td>tcp</td>\n",
       "      <td>ftp_data</td>\n",
       "      <td>SF</td>\n",
       "      <td>491</td>\n",
       "      <td>0</td>\n",
       "      <td>0</td>\n",
       "      <td>0</td>\n",
       "      <td>0</td>\n",
       "      <td>0</td>\n",
       "      <td>...</td>\n",
       "      <td>25</td>\n",
       "      <td>0.17</td>\n",
       "      <td>0.17</td>\n",
       "      <td>0.00</td>\n",
       "      <td>0.00</td>\n",
       "      <td>0.00</td>\n",
       "      <td>0.05</td>\n",
       "      <td>0.00</td>\n",
       "      <td>normal</td>\n",
       "      <td>normal</td>\n",
       "    </tr>\n",
       "    <tr>\n",
       "      <th>1</th>\n",
       "      <td>0</td>\n",
       "      <td>udp</td>\n",
       "      <td>other</td>\n",
       "      <td>SF</td>\n",
       "      <td>146</td>\n",
       "      <td>0</td>\n",
       "      <td>0</td>\n",
       "      <td>0</td>\n",
       "      <td>0</td>\n",
       "      <td>0</td>\n",
       "      <td>...</td>\n",
       "      <td>1</td>\n",
       "      <td>0.00</td>\n",
       "      <td>0.88</td>\n",
       "      <td>0.00</td>\n",
       "      <td>0.00</td>\n",
       "      <td>0.00</td>\n",
       "      <td>0.00</td>\n",
       "      <td>0.00</td>\n",
       "      <td>normal</td>\n",
       "      <td>normal</td>\n",
       "    </tr>\n",
       "    <tr>\n",
       "      <th>2</th>\n",
       "      <td>0</td>\n",
       "      <td>tcp</td>\n",
       "      <td>private</td>\n",
       "      <td>S0</td>\n",
       "      <td>0</td>\n",
       "      <td>0</td>\n",
       "      <td>0</td>\n",
       "      <td>0</td>\n",
       "      <td>0</td>\n",
       "      <td>0</td>\n",
       "      <td>...</td>\n",
       "      <td>26</td>\n",
       "      <td>0.10</td>\n",
       "      <td>0.00</td>\n",
       "      <td>0.00</td>\n",
       "      <td>1.00</td>\n",
       "      <td>1.00</td>\n",
       "      <td>0.00</td>\n",
       "      <td>0.00</td>\n",
       "      <td>neptune</td>\n",
       "      <td>dos</td>\n",
       "    </tr>\n",
       "    <tr>\n",
       "      <th>3</th>\n",
       "      <td>0</td>\n",
       "      <td>tcp</td>\n",
       "      <td>http</td>\n",
       "      <td>SF</td>\n",
       "      <td>232</td>\n",
       "      <td>8153</td>\n",
       "      <td>0</td>\n",
       "      <td>0</td>\n",
       "      <td>0</td>\n",
       "      <td>0</td>\n",
       "      <td>...</td>\n",
       "      <td>255</td>\n",
       "      <td>1.00</td>\n",
       "      <td>0.03</td>\n",
       "      <td>0.04</td>\n",
       "      <td>0.03</td>\n",
       "      <td>0.01</td>\n",
       "      <td>0.00</td>\n",
       "      <td>0.01</td>\n",
       "      <td>normal</td>\n",
       "      <td>normal</td>\n",
       "    </tr>\n",
       "    <tr>\n",
       "      <th>4</th>\n",
       "      <td>0</td>\n",
       "      <td>tcp</td>\n",
       "      <td>http</td>\n",
       "      <td>SF</td>\n",
       "      <td>199</td>\n",
       "      <td>420</td>\n",
       "      <td>0</td>\n",
       "      <td>0</td>\n",
       "      <td>0</td>\n",
       "      <td>0</td>\n",
       "      <td>...</td>\n",
       "      <td>255</td>\n",
       "      <td>1.00</td>\n",
       "      <td>0.00</td>\n",
       "      <td>0.00</td>\n",
       "      <td>0.00</td>\n",
       "      <td>0.00</td>\n",
       "      <td>0.00</td>\n",
       "      <td>0.00</td>\n",
       "      <td>normal</td>\n",
       "      <td>normal</td>\n",
       "    </tr>\n",
       "    <tr>\n",
       "      <th>...</th>\n",
       "      <td>...</td>\n",
       "      <td>...</td>\n",
       "      <td>...</td>\n",
       "      <td>...</td>\n",
       "      <td>...</td>\n",
       "      <td>...</td>\n",
       "      <td>...</td>\n",
       "      <td>...</td>\n",
       "      <td>...</td>\n",
       "      <td>...</td>\n",
       "      <td>...</td>\n",
       "      <td>...</td>\n",
       "      <td>...</td>\n",
       "      <td>...</td>\n",
       "      <td>...</td>\n",
       "      <td>...</td>\n",
       "      <td>...</td>\n",
       "      <td>...</td>\n",
       "      <td>...</td>\n",
       "      <td>...</td>\n",
       "      <td>...</td>\n",
       "    </tr>\n",
       "    <tr>\n",
       "      <th>25187</th>\n",
       "      <td>0</td>\n",
       "      <td>tcp</td>\n",
       "      <td>exec</td>\n",
       "      <td>RSTO</td>\n",
       "      <td>0</td>\n",
       "      <td>0</td>\n",
       "      <td>0</td>\n",
       "      <td>0</td>\n",
       "      <td>0</td>\n",
       "      <td>0</td>\n",
       "      <td>...</td>\n",
       "      <td>7</td>\n",
       "      <td>0.03</td>\n",
       "      <td>0.00</td>\n",
       "      <td>0.00</td>\n",
       "      <td>0.00</td>\n",
       "      <td>0.00</td>\n",
       "      <td>1.00</td>\n",
       "      <td>1.00</td>\n",
       "      <td>neptune</td>\n",
       "      <td>dos</td>\n",
       "    </tr>\n",
       "    <tr>\n",
       "      <th>25188</th>\n",
       "      <td>0</td>\n",
       "      <td>tcp</td>\n",
       "      <td>ftp_data</td>\n",
       "      <td>SF</td>\n",
       "      <td>334</td>\n",
       "      <td>0</td>\n",
       "      <td>0</td>\n",
       "      <td>0</td>\n",
       "      <td>0</td>\n",
       "      <td>0</td>\n",
       "      <td>...</td>\n",
       "      <td>39</td>\n",
       "      <td>1.00</td>\n",
       "      <td>1.00</td>\n",
       "      <td>0.18</td>\n",
       "      <td>0.00</td>\n",
       "      <td>0.00</td>\n",
       "      <td>0.00</td>\n",
       "      <td>0.00</td>\n",
       "      <td>warezclient</td>\n",
       "      <td>r2l</td>\n",
       "    </tr>\n",
       "    <tr>\n",
       "      <th>25189</th>\n",
       "      <td>0</td>\n",
       "      <td>tcp</td>\n",
       "      <td>private</td>\n",
       "      <td>REJ</td>\n",
       "      <td>0</td>\n",
       "      <td>0</td>\n",
       "      <td>0</td>\n",
       "      <td>0</td>\n",
       "      <td>0</td>\n",
       "      <td>0</td>\n",
       "      <td>...</td>\n",
       "      <td>13</td>\n",
       "      <td>0.05</td>\n",
       "      <td>0.00</td>\n",
       "      <td>0.00</td>\n",
       "      <td>0.00</td>\n",
       "      <td>0.00</td>\n",
       "      <td>1.00</td>\n",
       "      <td>1.00</td>\n",
       "      <td>neptune</td>\n",
       "      <td>dos</td>\n",
       "    </tr>\n",
       "    <tr>\n",
       "      <th>25190</th>\n",
       "      <td>0</td>\n",
       "      <td>tcp</td>\n",
       "      <td>nnsp</td>\n",
       "      <td>S0</td>\n",
       "      <td>0</td>\n",
       "      <td>0</td>\n",
       "      <td>0</td>\n",
       "      <td>0</td>\n",
       "      <td>0</td>\n",
       "      <td>0</td>\n",
       "      <td>...</td>\n",
       "      <td>20</td>\n",
       "      <td>0.08</td>\n",
       "      <td>0.00</td>\n",
       "      <td>0.00</td>\n",
       "      <td>1.00</td>\n",
       "      <td>1.00</td>\n",
       "      <td>0.00</td>\n",
       "      <td>0.00</td>\n",
       "      <td>neptune</td>\n",
       "      <td>dos</td>\n",
       "    </tr>\n",
       "    <tr>\n",
       "      <th>25191</th>\n",
       "      <td>0</td>\n",
       "      <td>tcp</td>\n",
       "      <td>finger</td>\n",
       "      <td>S0</td>\n",
       "      <td>0</td>\n",
       "      <td>0</td>\n",
       "      <td>0</td>\n",
       "      <td>0</td>\n",
       "      <td>0</td>\n",
       "      <td>0</td>\n",
       "      <td>...</td>\n",
       "      <td>49</td>\n",
       "      <td>0.19</td>\n",
       "      <td>0.01</td>\n",
       "      <td>0.00</td>\n",
       "      <td>1.00</td>\n",
       "      <td>1.00</td>\n",
       "      <td>0.00</td>\n",
       "      <td>0.00</td>\n",
       "      <td>neptune</td>\n",
       "      <td>dos</td>\n",
       "    </tr>\n",
       "  </tbody>\n",
       "</table>\n",
       "<p>25192 rows × 42 columns</p>\n",
       "</div>"
      ],
      "text/plain": [
       "       duration protocol_type   service  flag  src_bytes  dst_bytes  land  \\\n",
       "0             0           tcp  ftp_data    SF        491          0     0   \n",
       "1             0           udp     other    SF        146          0     0   \n",
       "2             0           tcp   private    S0          0          0     0   \n",
       "3             0           tcp      http    SF        232       8153     0   \n",
       "4             0           tcp      http    SF        199        420     0   \n",
       "...         ...           ...       ...   ...        ...        ...   ...   \n",
       "25187         0           tcp      exec  RSTO          0          0     0   \n",
       "25188         0           tcp  ftp_data    SF        334          0     0   \n",
       "25189         0           tcp   private   REJ          0          0     0   \n",
       "25190         0           tcp      nnsp    S0          0          0     0   \n",
       "25191         0           tcp    finger    S0          0          0     0   \n",
       "\n",
       "       wrong_fragment  urgent  hot  ...  dst_host_srv_count  \\\n",
       "0                   0       0    0  ...                  25   \n",
       "1                   0       0    0  ...                   1   \n",
       "2                   0       0    0  ...                  26   \n",
       "3                   0       0    0  ...                 255   \n",
       "4                   0       0    0  ...                 255   \n",
       "...               ...     ...  ...  ...                 ...   \n",
       "25187               0       0    0  ...                   7   \n",
       "25188               0       0    0  ...                  39   \n",
       "25189               0       0    0  ...                  13   \n",
       "25190               0       0    0  ...                  20   \n",
       "25191               0       0    0  ...                  49   \n",
       "\n",
       "       dst_host_same_srv_rate  dst_host_same_src_port_rate  \\\n",
       "0                        0.17                         0.17   \n",
       "1                        0.00                         0.88   \n",
       "2                        0.10                         0.00   \n",
       "3                        1.00                         0.03   \n",
       "4                        1.00                         0.00   \n",
       "...                       ...                          ...   \n",
       "25187                    0.03                         0.00   \n",
       "25188                    1.00                         1.00   \n",
       "25189                    0.05                         0.00   \n",
       "25190                    0.08                         0.00   \n",
       "25191                    0.19                         0.01   \n",
       "\n",
       "       dst_host_srv_diff_host_rate  dst_host_serror_rate  \\\n",
       "0                             0.00                  0.00   \n",
       "1                             0.00                  0.00   \n",
       "2                             0.00                  1.00   \n",
       "3                             0.04                  0.03   \n",
       "4                             0.00                  0.00   \n",
       "...                            ...                   ...   \n",
       "25187                         0.00                  0.00   \n",
       "25188                         0.18                  0.00   \n",
       "25189                         0.00                  0.00   \n",
       "25190                         0.00                  1.00   \n",
       "25191                         0.00                  1.00   \n",
       "\n",
       "       dst_host_srv_serror_rate  dst_host_rerror_rate  \\\n",
       "0                          0.00                  0.05   \n",
       "1                          0.00                  0.00   \n",
       "2                          1.00                  0.00   \n",
       "3                          0.01                  0.00   \n",
       "4                          0.00                  0.00   \n",
       "...                         ...                   ...   \n",
       "25187                      0.00                  1.00   \n",
       "25188                      0.00                  0.00   \n",
       "25189                      0.00                  1.00   \n",
       "25190                      1.00                  0.00   \n",
       "25191                      1.00                  0.00   \n",
       "\n",
       "       dst_host_srv_rerror_rate      outcome  Attacks  \n",
       "0                          0.00       normal   normal  \n",
       "1                          0.00       normal   normal  \n",
       "2                          0.00      neptune      dos  \n",
       "3                          0.01       normal   normal  \n",
       "4                          0.00       normal   normal  \n",
       "...                         ...          ...      ...  \n",
       "25187                      1.00      neptune      dos  \n",
       "25188                      0.00  warezclient      r2l  \n",
       "25189                      1.00      neptune      dos  \n",
       "25190                      0.00      neptune      dos  \n",
       "25191                      0.00      neptune      dos  \n",
       "\n",
       "[25192 rows x 42 columns]"
      ]
     },
     "execution_count": 17,
     "metadata": {},
     "output_type": "execute_result"
    }
   ],
   "source": [
    "df2"
   ]
  },
  {
   "cell_type": "code",
   "execution_count": 18,
   "metadata": {},
   "outputs": [
    {
     "data": {
      "text/plain": [
       "(25192, 42)"
      ]
     },
     "execution_count": 18,
     "metadata": {},
     "output_type": "execute_result"
    }
   ],
   "source": [
    "df2.shape"
   ]
  },
  {
   "cell_type": "code",
   "execution_count": 19,
   "metadata": {},
   "outputs": [
    {
     "data": {
      "image/png": "[encoded data removed]",
      "text/plain": [
       "<Figure size 432x288 with 1 Axes>"
      ]
     },
     "metadata": {
      "needs_background": "light"
     },
     "output_type": "display_data"
    }
   ],
   "source": [
    "bar_graph('Attacks')"
   ]
  },
  {
   "cell_type": "code",
   "execution_count": 20,
   "metadata": {},
   "outputs": [
    {
     "data": {
      "text/plain": [
       "Index(['duration', 'protocol_type', 'service', 'flag', 'src_bytes',\n",
       "       'dst_bytes', 'land', 'wrong_fragment', 'urgent', 'hot',\n",
       "       'num_failed_logins', 'logged_in', 'num_compromised', 'root_shell',\n",
       "       'su_attempted', 'num_root', 'num_file_creations', 'num_shells',\n",
       "       'num_access_files', 'num_outbound_cmds', 'is_host_login',\n",
       "       'is_guest_login', 'count', 'srv_count', 'serror_rate',\n",
       "       'srv_serror_rate', 'rerror_rate', 'srv_rerror_rate', 'same_srv_rate',\n",
       "       'diff_srv_rate', 'srv_diff_host_rate', 'dst_host_count',\n",
       "       'dst_host_srv_count', 'dst_host_same_srv_rate',\n",
       "       'dst_host_same_src_port_rate', 'dst_host_srv_diff_host_rate',\n",
       "       'dst_host_serror_rate', 'dst_host_srv_serror_rate',\n",
       "       'dst_host_rerror_rate', 'dst_host_srv_rerror_rate', 'outcome',\n",
       "       'Attacks'],\n",
       "      dtype='object')"
      ]
     },
     "execution_count": 20,
     "metadata": {},
     "output_type": "execute_result"
    }
   ],
   "source": [
    "df2.columns"
   ]
  },
  {
   "cell_type": "code",
   "execution_count": 21,
   "metadata": {},
   "outputs": [],
   "source": [
    "#'num_outbound_cmds' is a redundant column so remove it from both train & test datasets\n",
    "\n",
    "df2 = df2.drop(['num_outbound_cmds','is_host_login'],axis = 1)"
   ]
  },
  {
   "cell_type": "code",
   "execution_count": 22,
   "metadata": {},
   "outputs": [
    {
     "data": {
      "image/png": "[encoded data removed]",
      "text/plain": [
       "<Figure size 1080x864 with 2 Axes>"
      ]
     },
     "metadata": {
      "needs_background": "light"
     },
     "output_type": "display_data"
    }
   ],
   "source": [
    "df2 = df2.dropna('columns')\n",
    "corr = df2.corr()\n",
    "\n",
    "plt.figure(figsize=(15,12))\n",
    "\n",
    "sns.heatmap(corr)\n",
    "\n",
    "plt.show()"
   ]
  },
  {
   "cell_type": "code",
   "execution_count": 23,
   "metadata": {},
   "outputs": [],
   "source": [
    "df3 = df2.drop(['outcome'],axis = 1)"
   ]
  },
  {
   "cell_type": "code",
   "execution_count": 24,
   "metadata": {},
   "outputs": [
    {
     "name": "stdout",
     "output_type": "stream",
     "text": [
      "<class 'pandas.core.frame.DataFrame'>\n",
      "RangeIndex: 25192 entries, 0 to 25191\n",
      "Data columns (total 39 columns):\n",
      " #   Column                       Non-Null Count  Dtype  \n",
      "---  ------                       --------------  -----  \n",
      " 0   duration                     25192 non-null  int64  \n",
      " 1   protocol_type                25192 non-null  object \n",
      " 2   service                      25192 non-null  object \n",
      " 3   flag                         25192 non-null  object \n",
      " 4   src_bytes                    25192 non-null  int64  \n",
      " 5   dst_bytes                    25192 non-null  int64  \n",
      " 6   land                         25192 non-null  int64  \n",
      " 7   wrong_fragment               25192 non-null  int64  \n",
      " 8   urgent                       25192 non-null  int64  \n",
      " 9   hot                          25192 non-null  int64  \n",
      " 10  num_failed_logins            25192 non-null  int64  \n",
      " 11  logged_in                    25192 non-null  int64  \n",
      " 12  num_compromised              25192 non-null  int64  \n",
      " 13  root_shell                   25192 non-null  int64  \n",
      " 14  su_attempted                 25192 non-null  int64  \n",
      " 15  num_root                     25192 non-null  int64  \n",
      " 16  num_file_creations           25192 non-null  int64  \n",
      " 17  num_shells                   25192 non-null  int64  \n",
      " 18  num_access_files             25192 non-null  int64  \n",
      " 19  is_guest_login               25192 non-null  int64  \n",
      " 20  count                        25192 non-null  int64  \n",
      " 21  srv_count                    25192 non-null  int64  \n",
      " 22  serror_rate                  25192 non-null  float64\n",
      " 23  srv_serror_rate              25192 non-null  float64\n",
      " 24  rerror_rate                  25192 non-null  float64\n",
      " 25  srv_rerror_rate              25192 non-null  float64\n",
      " 26  same_srv_rate                25192 non-null  float64\n",
      " 27  diff_srv_rate                25192 non-null  float64\n",
      " 28  srv_diff_host_rate           25192 non-null  float64\n",
      " 29  dst_host_count               25192 non-null  int64  \n",
      " 30  dst_host_srv_count           25192 non-null  int64  \n",
      " 31  dst_host_same_srv_rate       25192 non-null  float64\n",
      " 32  dst_host_same_src_port_rate  25192 non-null  float64\n",
      " 33  dst_host_srv_diff_host_rate  25192 non-null  float64\n",
      " 34  dst_host_serror_rate         25192 non-null  float64\n",
      " 35  dst_host_srv_serror_rate     25192 non-null  float64\n",
      " 36  dst_host_rerror_rate         25192 non-null  float64\n",
      " 37  dst_host_srv_rerror_rate     25192 non-null  float64\n",
      " 38  Attacks                      25192 non-null  object \n",
      "dtypes: float64(14), int64(21), object(4)\n",
      "memory usage: 7.5+ MB\n"
     ]
    }
   ],
   "source": [
    "df3.info()"
   ]
  },
  {
   "cell_type": "markdown",
   "metadata": {},
   "source": [
    "# Feature Engineering"
   ]
  },
  {
   "cell_type": "code",
   "execution_count": 25,
   "metadata": {},
   "outputs": [],
   "source": [
    "# scaling numerical values "
   ]
  },
  {
   "cell_type": "code",
   "execution_count": 26,
   "metadata": {},
   "outputs": [],
   "source": [
    "from sklearn.preprocessing import StandardScaler\n",
    "scaler = StandardScaler()\n",
    "cols = df3.select_dtypes(include=['float64','int64']).columns"
   ]
  },
  {
   "cell_type": "code",
   "execution_count": 27,
   "metadata": {},
   "outputs": [
    {
     "name": "stdout",
     "output_type": "stream",
     "text": [
      "Index(['duration', 'src_bytes', 'dst_bytes', 'land', 'wrong_fragment',\n",
      "       'urgent', 'hot', 'num_failed_logins', 'logged_in', 'num_compromised',\n",
      "       'root_shell', 'su_attempted', 'num_root', 'num_file_creations',\n",
      "       'num_shells', 'num_access_files', 'is_guest_login', 'count',\n",
      "       'srv_count', 'serror_rate', 'srv_serror_rate', 'rerror_rate',\n",
      "       'srv_rerror_rate', 'same_srv_rate', 'diff_srv_rate',\n",
      "       'srv_diff_host_rate', 'dst_host_count', 'dst_host_srv_count',\n",
      "       'dst_host_same_srv_rate', 'dst_host_same_src_port_rate',\n",
      "       'dst_host_srv_diff_host_rate', 'dst_host_serror_rate',\n",
      "       'dst_host_srv_serror_rate', 'dst_host_rerror_rate',\n",
      "       'dst_host_srv_rerror_rate'],\n",
      "      dtype='object')\n"
     ]
    }
   ],
   "source": [
    "print(cols)"
   ]
  },
  {
   "cell_type": "code",
   "execution_count": 28,
   "metadata": {},
   "outputs": [],
   "source": [
    "sc_df = scaler.fit_transform(df3.select_dtypes(include=['float64','int64']))"
   ]
  },
  {
   "cell_type": "code",
   "execution_count": 29,
   "metadata": {},
   "outputs": [
    {
     "name": "stdout",
     "output_type": "stream",
     "text": [
      "[[-0.11355066 -0.00988885 -0.03930979 ... -0.62736475 -0.22166806\n",
      "  -0.37428075]\n",
      " [-0.11355066 -0.01003196 -0.03930979 ... -0.62736475 -0.38513984\n",
      "  -0.37428075]\n",
      " [-0.11355066 -0.01009252 -0.03930979 ...  1.61445359 -0.38513984\n",
      "  -0.37428075]\n",
      " ...\n",
      " [-0.11355066 -0.01009252 -0.03930979 ... -0.62736475  2.88429591\n",
      "   2.77704096]\n",
      " [-0.11355066 -0.01009252 -0.03930979 ...  1.61445359 -0.38513984\n",
      "  -0.37428075]\n",
      " [-0.11355066 -0.01009252 -0.03930979 ...  1.61445359 -0.38513984\n",
      "  -0.37428075]]\n"
     ]
    }
   ],
   "source": [
    "print(sc_df)"
   ]
  },
  {
   "cell_type": "code",
   "execution_count": 30,
   "metadata": {},
   "outputs": [],
   "source": [
    "sc_df = pd.DataFrame(sc_df, columns = cols)"
   ]
  },
  {
   "cell_type": "code",
   "execution_count": 31,
   "metadata": {},
   "outputs": [
    {
     "name": "stdout",
     "output_type": "stream",
     "text": [
      "       duration  src_bytes  dst_bytes     land  wrong_fragment    urgent  \\\n",
      "0     -0.113551  -0.009889  -0.039310 -0.00891       -0.091223 -0.006301   \n",
      "1     -0.113551  -0.010032  -0.039310 -0.00891       -0.091223 -0.006301   \n",
      "2     -0.113551  -0.010093  -0.039310 -0.00891       -0.091223 -0.006301   \n",
      "3     -0.113551  -0.009996   0.052473 -0.00891       -0.091223 -0.006301   \n",
      "4     -0.113551  -0.010010  -0.034582 -0.00891       -0.091223 -0.006301   \n",
      "...         ...        ...        ...      ...             ...       ...   \n",
      "25187 -0.113551  -0.010093  -0.039310 -0.00891       -0.091223 -0.006301   \n",
      "25188 -0.113551  -0.009954  -0.039310 -0.00891       -0.091223 -0.006301   \n",
      "25189 -0.113551  -0.010093  -0.039310 -0.00891       -0.091223 -0.006301   \n",
      "25190 -0.113551  -0.010093  -0.039310 -0.00891       -0.091223 -0.006301   \n",
      "25191 -0.113551  -0.010093  -0.039310 -0.00891       -0.091223 -0.006301   \n",
      "\n",
      "            hot  num_failed_logins  logged_in  num_compromised  ...  \\\n",
      "0     -0.091933           -0.02622  -0.807626        -0.021873  ...   \n",
      "1     -0.091933           -0.02622  -0.807626        -0.021873  ...   \n",
      "2     -0.091933           -0.02622  -0.807626        -0.021873  ...   \n",
      "3     -0.091933           -0.02622   1.238197        -0.021873  ...   \n",
      "4     -0.091933           -0.02622   1.238197        -0.021873  ...   \n",
      "...         ...                ...        ...              ...  ...   \n",
      "25187 -0.091933           -0.02622  -0.807626        -0.021873  ...   \n",
      "25188 -0.091933           -0.02622   1.238197        -0.021873  ...   \n",
      "25189 -0.091933           -0.02622  -0.807626        -0.021873  ...   \n",
      "25190 -0.091933           -0.02622  -0.807626        -0.021873  ...   \n",
      "25191 -0.091933           -0.02622  -0.807626        -0.021873  ...   \n",
      "\n",
      "       srv_diff_host_rate  dst_host_count  dst_host_srv_count  \\\n",
      "0               -0.373886       -0.328634           -0.813985   \n",
      "1               -0.373886        0.732059           -1.030895   \n",
      "2               -0.373886        0.732059           -0.804947   \n",
      "3               -0.373886       -1.540854            1.264742   \n",
      "4               -0.023115        0.732059            1.264742   \n",
      "...                   ...             ...                 ...   \n",
      "25187           -0.373886        0.732059           -0.976667   \n",
      "25188           -0.373886       -1.833807           -0.687453   \n",
      "25189           -0.373886        0.732059           -0.922440   \n",
      "25190           -0.373886        0.732059           -0.859174   \n",
      "25191           -0.373886        0.732059           -0.597074   \n",
      "\n",
      "       dst_host_same_srv_rate  dst_host_same_src_port_rate  \\\n",
      "0                   -0.779157                     0.073120   \n",
      "1                   -1.157831                     2.375620   \n",
      "2                   -0.935081                    -0.478183   \n",
      "3                    1.069663                    -0.380894   \n",
      "4                    1.069663                    -0.478183   \n",
      "...                       ...                          ...   \n",
      "25187               -1.091006                    -0.478183   \n",
      "25188                1.069663                     2.764775   \n",
      "25189               -1.046456                    -0.478183   \n",
      "25190               -0.979631                    -0.478183   \n",
      "25191               -0.734607                    -0.445754   \n",
      "\n",
      "       dst_host_srv_diff_host_rate  dst_host_serror_rate  \\\n",
      "0                        -0.287993             -0.641804   \n",
      "1                        -0.287993             -0.641804   \n",
      "2                        -0.287993              1.603834   \n",
      "3                         0.073759             -0.574435   \n",
      "4                        -0.287993             -0.641804   \n",
      "...                            ...                   ...   \n",
      "25187                    -0.287993             -0.641804   \n",
      "25188                     1.339894             -0.641804   \n",
      "25189                    -0.287993             -0.641804   \n",
      "25190                    -0.287993              1.603834   \n",
      "25191                    -0.287993              1.603834   \n",
      "\n",
      "       dst_host_srv_serror_rate  dst_host_rerror_rate  \\\n",
      "0                     -0.627365             -0.221668   \n",
      "1                     -0.627365             -0.385140   \n",
      "2                      1.614454             -0.385140   \n",
      "3                     -0.604947             -0.385140   \n",
      "4                     -0.627365             -0.385140   \n",
      "...                         ...                   ...   \n",
      "25187                 -0.627365              2.884296   \n",
      "25188                 -0.627365             -0.385140   \n",
      "25189                 -0.627365              2.884296   \n",
      "25190                  1.614454             -0.385140   \n",
      "25191                  1.614454             -0.385140   \n",
      "\n",
      "       dst_host_srv_rerror_rate  \n",
      "0                     -0.374281  \n",
      "1                     -0.374281  \n",
      "2                     -0.374281  \n",
      "3                     -0.342768  \n",
      "4                     -0.374281  \n",
      "...                         ...  \n",
      "25187                  2.777041  \n",
      "25188                 -0.374281  \n",
      "25189                  2.777041  \n",
      "25190                 -0.374281  \n",
      "25191                 -0.374281  \n",
      "\n",
      "[25192 rows x 35 columns]\n"
     ]
    }
   ],
   "source": [
    "print(sc_df)"
   ]
  },
  {
   "cell_type": "code",
   "execution_count": 32,
   "metadata": {},
   "outputs": [],
   "source": [
    "# encoding catgorical values\n",
    "from sklearn.preprocessing import LabelEncoder\n",
    "encoder = LabelEncoder()\n",
    "\n",
    "cat_df = df3.select_dtypes(include=['object']).copy()"
   ]
  },
  {
   "cell_type": "code",
   "execution_count": 33,
   "metadata": {},
   "outputs": [
    {
     "name": "stdout",
     "output_type": "stream",
     "text": [
      "      protocol_type   service  flag Attacks\n",
      "0               tcp  ftp_data    SF  normal\n",
      "1               udp     other    SF  normal\n",
      "2               tcp   private    S0     dos\n",
      "3               tcp      http    SF  normal\n",
      "4               tcp      http    SF  normal\n",
      "...             ...       ...   ...     ...\n",
      "25187           tcp      exec  RSTO     dos\n",
      "25188           tcp  ftp_data    SF     r2l\n",
      "25189           tcp   private   REJ     dos\n",
      "25190           tcp      nnsp    S0     dos\n",
      "25191           tcp    finger    S0     dos\n",
      "\n",
      "[25192 rows x 4 columns]\n"
     ]
    }
   ],
   "source": [
    "print(cat_df)"
   ]
  },
  {
   "cell_type": "code",
   "execution_count": 34,
   "metadata": {},
   "outputs": [],
   "source": [
    "df_cat = cat_df.apply(encoder.fit_transform)"
   ]
  },
  {
   "cell_type": "code",
   "execution_count": 35,
   "metadata": {},
   "outputs": [
    {
     "name": "stdout",
     "output_type": "stream",
     "text": [
      "       protocol_type  service  flag  Attacks\n",
      "0                  1       19     9        1\n",
      "1                  2       41     9        1\n",
      "2                  1       46     5        0\n",
      "3                  1       22     9        1\n",
      "4                  1       22     9        1\n",
      "...              ...      ...   ...      ...\n",
      "25187              1       16     2        0\n",
      "25188              1       19     9        3\n",
      "25189              1       46     1        0\n",
      "25190              1       38     5        0\n",
      "25191              1       17     5        0\n",
      "\n",
      "[25192 rows x 4 columns]\n"
     ]
    }
   ],
   "source": [
    "print(df_cat)"
   ]
  },
  {
   "cell_type": "code",
   "execution_count": 36,
   "metadata": {},
   "outputs": [],
   "source": [
    "df_ids = pd.concat([sc_df,df_cat],axis = 1)"
   ]
  },
  {
   "cell_type": "code",
   "execution_count": 37,
   "metadata": {},
   "outputs": [
    {
     "name": "stdout",
     "output_type": "stream",
     "text": [
      "       duration  src_bytes  dst_bytes     land  wrong_fragment    urgent  \\\n",
      "0     -0.113551  -0.009889  -0.039310 -0.00891       -0.091223 -0.006301   \n",
      "1     -0.113551  -0.010032  -0.039310 -0.00891       -0.091223 -0.006301   \n",
      "2     -0.113551  -0.010093  -0.039310 -0.00891       -0.091223 -0.006301   \n",
      "3     -0.113551  -0.009996   0.052473 -0.00891       -0.091223 -0.006301   \n",
      "4     -0.113551  -0.010010  -0.034582 -0.00891       -0.091223 -0.006301   \n",
      "...         ...        ...        ...      ...             ...       ...   \n",
      "25187 -0.113551  -0.010093  -0.039310 -0.00891       -0.091223 -0.006301   \n",
      "25188 -0.113551  -0.009954  -0.039310 -0.00891       -0.091223 -0.006301   \n",
      "25189 -0.113551  -0.010093  -0.039310 -0.00891       -0.091223 -0.006301   \n",
      "25190 -0.113551  -0.010093  -0.039310 -0.00891       -0.091223 -0.006301   \n",
      "25191 -0.113551  -0.010093  -0.039310 -0.00891       -0.091223 -0.006301   \n",
      "\n",
      "            hot  num_failed_logins  logged_in  num_compromised  ...  \\\n",
      "0     -0.091933           -0.02622  -0.807626        -0.021873  ...   \n",
      "1     -0.091933           -0.02622  -0.807626        -0.021873  ...   \n",
      "2     -0.091933           -0.02622  -0.807626        -0.021873  ...   \n",
      "3     -0.091933           -0.02622   1.238197        -0.021873  ...   \n",
      "4     -0.091933           -0.02622   1.238197        -0.021873  ...   \n",
      "...         ...                ...        ...              ...  ...   \n",
      "25187 -0.091933           -0.02622  -0.807626        -0.021873  ...   \n",
      "25188 -0.091933           -0.02622   1.238197        -0.021873  ...   \n",
      "25189 -0.091933           -0.02622  -0.807626        -0.021873  ...   \n",
      "25190 -0.091933           -0.02622  -0.807626        -0.021873  ...   \n",
      "25191 -0.091933           -0.02622  -0.807626        -0.021873  ...   \n",
      "\n",
      "       dst_host_same_src_port_rate  dst_host_srv_diff_host_rate  \\\n",
      "0                         0.073120                    -0.287993   \n",
      "1                         2.375620                    -0.287993   \n",
      "2                        -0.478183                    -0.287993   \n",
      "3                        -0.380894                     0.073759   \n",
      "4                        -0.478183                    -0.287993   \n",
      "...                            ...                          ...   \n",
      "25187                    -0.478183                    -0.287993   \n",
      "25188                     2.764775                     1.339894   \n",
      "25189                    -0.478183                    -0.287993   \n",
      "25190                    -0.478183                    -0.287993   \n",
      "25191                    -0.445754                    -0.287993   \n",
      "\n",
      "       dst_host_serror_rate  dst_host_srv_serror_rate  dst_host_rerror_rate  \\\n",
      "0                 -0.641804                 -0.627365             -0.221668   \n",
      "1                 -0.641804                 -0.627365             -0.385140   \n",
      "2                  1.603834                  1.614454             -0.385140   \n",
      "3                 -0.574435                 -0.604947             -0.385140   \n",
      "4                 -0.641804                 -0.627365             -0.385140   \n",
      "...                     ...                       ...                   ...   \n",
      "25187             -0.641804                 -0.627365              2.884296   \n",
      "25188             -0.641804                 -0.627365             -0.385140   \n",
      "25189             -0.641804                 -0.627365              2.884296   \n",
      "25190              1.603834                  1.614454             -0.385140   \n",
      "25191              1.603834                  1.614454             -0.385140   \n",
      "\n",
      "       dst_host_srv_rerror_rate  protocol_type  service  flag  Attacks  \n",
      "0                     -0.374281              1       19     9        1  \n",
      "1                     -0.374281              2       41     9        1  \n",
      "2                     -0.374281              1       46     5        0  \n",
      "3                     -0.342768              1       22     9        1  \n",
      "4                     -0.374281              1       22     9        1  \n",
      "...                         ...            ...      ...   ...      ...  \n",
      "25187                  2.777041              1       16     2        0  \n",
      "25188                 -0.374281              1       19     9        3  \n",
      "25189                  2.777041              1       46     1        0  \n",
      "25190                 -0.374281              1       38     5        0  \n",
      "25191                 -0.374281              1       17     5        0  \n",
      "\n",
      "[25192 rows x 39 columns]\n"
     ]
    }
   ],
   "source": [
    "print(df_ids)"
   ]
  },
  {
   "cell_type": "code",
   "execution_count": 38,
   "metadata": {},
   "outputs": [
    {
     "name": "stdout",
     "output_type": "stream",
     "text": [
      "<class 'pandas.core.frame.DataFrame'>\n",
      "RangeIndex: 25192 entries, 0 to 25191\n",
      "Data columns (total 39 columns):\n",
      " #   Column                       Non-Null Count  Dtype  \n",
      "---  ------                       --------------  -----  \n",
      " 0   duration                     25192 non-null  float64\n",
      " 1   src_bytes                    25192 non-null  float64\n",
      " 2   dst_bytes                    25192 non-null  float64\n",
      " 3   land                         25192 non-null  float64\n",
      " 4   wrong_fragment               25192 non-null  float64\n",
      " 5   urgent                       25192 non-null  float64\n",
      " 6   hot                          25192 non-null  float64\n",
      " 7   num_failed_logins            25192 non-null  float64\n",
      " 8   logged_in                    25192 non-null  float64\n",
      " 9   num_compromised              25192 non-null  float64\n",
      " 10  root_shell                   25192 non-null  float64\n",
      " 11  su_attempted                 25192 non-null  float64\n",
      " 12  num_root                     25192 non-null  float64\n",
      " 13  num_file_creations           25192 non-null  float64\n",
      " 14  num_shells                   25192 non-null  float64\n",
      " 15  num_access_files             25192 non-null  float64\n",
      " 16  is_guest_login               25192 non-null  float64\n",
      " 17  count                        25192 non-null  float64\n",
      " 18  srv_count                    25192 non-null  float64\n",
      " 19  serror_rate                  25192 non-null  float64\n",
      " 20  srv_serror_rate              25192 non-null  float64\n",
      " 21  rerror_rate                  25192 non-null  float64\n",
      " 22  srv_rerror_rate              25192 non-null  float64\n",
      " 23  same_srv_rate                25192 non-null  float64\n",
      " 24  diff_srv_rate                25192 non-null  float64\n",
      " 25  srv_diff_host_rate           25192 non-null  float64\n",
      " 26  dst_host_count               25192 non-null  float64\n",
      " 27  dst_host_srv_count           25192 non-null  float64\n",
      " 28  dst_host_same_srv_rate       25192 non-null  float64\n",
      " 29  dst_host_same_src_port_rate  25192 non-null  float64\n",
      " 30  dst_host_srv_diff_host_rate  25192 non-null  float64\n",
      " 31  dst_host_serror_rate         25192 non-null  float64\n",
      " 32  dst_host_srv_serror_rate     25192 non-null  float64\n",
      " 33  dst_host_rerror_rate         25192 non-null  float64\n",
      " 34  dst_host_srv_rerror_rate     25192 non-null  float64\n",
      " 35  protocol_type                25192 non-null  int32  \n",
      " 36  service                      25192 non-null  int32  \n",
      " 37  flag                         25192 non-null  int32  \n",
      " 38  Attacks                      25192 non-null  int32  \n",
      "dtypes: float64(35), int32(4)\n",
      "memory usage: 7.1 MB\n"
     ]
    }
   ],
   "source": [
    "df_ids.info()"
   ]
  },
  {
   "cell_type": "markdown",
   "metadata": {},
   "source": [
    "# Target and variables "
   ]
  },
  {
   "cell_type": "code",
   "execution_count": 39,
   "metadata": {},
   "outputs": [],
   "source": [
    "X = df_ids.drop(['Attacks'], axis=1)\n",
    "y = df_ids[\"Attacks\"]"
   ]
  },
  {
   "cell_type": "code",
   "execution_count": 40,
   "metadata": {},
   "outputs": [
    {
     "data": {
      "text/plain": [
       "(25192, 38)"
      ]
     },
     "execution_count": 40,
     "metadata": {},
     "output_type": "execute_result"
    }
   ],
   "source": [
    "X.shape"
   ]
  },
  {
   "cell_type": "code",
   "execution_count": 41,
   "metadata": {},
   "outputs": [
    {
     "data": {
      "text/plain": [
       "(25192,)"
      ]
     },
     "execution_count": 41,
     "metadata": {},
     "output_type": "execute_result"
    }
   ],
   "source": [
    "y.shape"
   ]
  },
  {
   "cell_type": "markdown",
   "metadata": {},
   "source": [
    "# FEATURE SELECTION"
   ]
  },
  {
   "cell_type": "code",
   "execution_count": 42,
   "metadata": {},
   "outputs": [],
   "source": [
    "from sklearn.ensemble import ExtraTreesClassifier\n",
    "import matplotlib.pyplot as plt\n",
    "model = ExtraTreesClassifier()"
   ]
  },
  {
   "cell_type": "code",
   "execution_count": 43,
   "metadata": {},
   "outputs": [
    {
     "data": {
      "text/plain": [
       "ExtraTreesClassifier()"
      ]
     },
     "execution_count": 43,
     "metadata": {},
     "output_type": "execute_result"
    }
   ],
   "source": [
    "model.fit(X,y)"
   ]
  },
  {
   "cell_type": "code",
   "execution_count": 44,
   "metadata": {},
   "outputs": [
    {
     "name": "stdout",
     "output_type": "stream",
     "text": [
      "[3.66729750e-03 2.15563114e-02 8.17806013e-03 3.86066282e-05\n",
      " 1.52715491e-02 7.87829085e-05 8.01241444e-03 2.70320766e-04\n",
      " 5.43473963e-02 6.87144142e-03 2.85241748e-04 3.08154515e-05\n",
      " 3.89493366e-04 2.29473718e-04 3.53330082e-05 1.07857627e-04\n",
      " 1.33447259e-03 3.68220350e-02 2.19420220e-02 5.92382243e-02\n",
      " 6.51604586e-02 1.62352341e-02 2.11311628e-02 1.34560285e-01\n",
      " 3.64449181e-02 1.24422664e-02 2.80570786e-02 3.76216183e-02\n",
      " 3.69925205e-02 4.00022076e-02 1.85999387e-02 9.33913870e-02\n",
      " 6.63410656e-02 2.98376373e-02 2.02876343e-02 4.10913635e-02\n",
      " 2.12194751e-02 4.18765989e-02]\n"
     ]
    }
   ],
   "source": [
    "print(model.feature_importances_)"
   ]
  },
  {
   "cell_type": "code",
   "execution_count": 45,
   "metadata": {},
   "outputs": [],
   "source": [
    "from sklearn.ensemble import RandomForestClassifier\n",
    "rfc = RandomForestClassifier()"
   ]
  },
  {
   "cell_type": "code",
   "execution_count": 46,
   "metadata": {},
   "outputs": [
    {
     "data": {
      "text/plain": [
       "RandomForestClassifier()"
      ]
     },
     "execution_count": 46,
     "metadata": {},
     "output_type": "execute_result"
    }
   ],
   "source": [
    "rfc.fit(X,y)"
   ]
  },
  {
   "cell_type": "code",
   "execution_count": 47,
   "metadata": {},
   "outputs": [
    {
     "name": "stdout",
     "output_type": "stream",
     "text": [
      "[0.004 0.17  0.062 0.    0.007 0.    0.007 0.    0.012 0.004 0.    0.\n",
      " 0.    0.    0.    0.    0.001 0.047 0.029 0.04  0.03  0.007 0.005 0.116\n",
      " 0.088 0.003 0.015 0.039 0.03  0.036 0.02  0.039 0.048 0.017 0.014 0.028\n",
      " 0.028 0.054]\n",
      "                             importance\n",
      "feature                                \n",
      "src_bytes                         0.170\n",
      "same_srv_rate                     0.116\n",
      "diff_srv_rate                     0.088\n",
      "dst_bytes                         0.062\n",
      "flag                              0.054\n",
      "dst_host_srv_serror_rate          0.048\n",
      "count                             0.047\n",
      "serror_rate                       0.040\n",
      "dst_host_serror_rate              0.039\n",
      "dst_host_srv_count                0.039\n",
      "dst_host_same_src_port_rate       0.036\n",
      "srv_serror_rate                   0.030\n",
      "dst_host_same_srv_rate            0.030\n",
      "srv_count                         0.029\n",
      "service                           0.028\n",
      "protocol_type                     0.028\n",
      "dst_host_srv_diff_host_rate       0.020\n",
      "dst_host_rerror_rate              0.017\n",
      "dst_host_count                    0.015\n",
      "dst_host_srv_rerror_rate          0.014\n",
      "logged_in                         0.012\n",
      "rerror_rate                       0.007\n",
      "hot                               0.007\n",
      "wrong_fragment                    0.007\n",
      "srv_rerror_rate                   0.005\n",
      "duration                          0.004\n",
      "num_compromised                   0.004\n",
      "srv_diff_host_rate                0.003\n",
      "is_guest_login                    0.001\n",
      "num_failed_logins                 0.000\n",
      "num_access_files                  0.000\n",
      "num_shells                        0.000\n",
      "land                              0.000\n",
      "num_file_creations                0.000\n",
      "num_root                          0.000\n",
      "su_attempted                      0.000\n",
      "root_shell                        0.000\n",
      "urgent                            0.000\n"
     ]
    }
   ],
   "source": [
    "score = np.round(rfc.feature_importances_,3)\n",
    "print(score)\n",
    "importances = pd.DataFrame({'feature':X.columns,'importance':score})\n",
    "importances = importances.sort_values('importance',ascending=False).set_index('feature')\n",
    "print(importances)"
   ]
  },
  {
   "cell_type": "code",
   "execution_count": 48,
   "metadata": {},
   "outputs": [
    {
     "data": {
      "text/plain": [
       "<matplotlib.axes._subplots.AxesSubplot at 0x1e7a74a3fa0>"
      ]
     },
     "execution_count": 48,
     "metadata": {},
     "output_type": "execute_result"
    },
    {
     "data": {
      "image/png": "[encoded data removed]",
      "text/plain": [
       "<Figure size 864x360 with 1 Axes>"
      ]
     },
     "metadata": {
      "needs_background": "light"
     },
     "output_type": "display_data"
    }
   ],
   "source": [
    "plt.rcParams['figure.figsize'] = (12, 5)\n",
    "importances.plot.bar()"
   ]
  },
  {
   "cell_type": "code",
   "execution_count": 49,
   "metadata": {},
   "outputs": [],
   "source": [
    "from sklearn.feature_selection import RFE\n",
    "import itertools"
   ]
  },
  {
   "cell_type": "code",
   "execution_count": 50,
   "metadata": {},
   "outputs": [],
   "source": [
    "rfe = RFE(rfc, n_features_to_select=15)\n",
    "rfe = rfe.fit(X,y)"
   ]
  },
  {
   "cell_type": "code",
   "execution_count": 51,
   "metadata": {},
   "outputs": [],
   "source": [
    "feature_map = [(i, v) for i, v in itertools.zip_longest(rfe.get_support(), X.columns)]"
   ]
  },
  {
   "cell_type": "code",
   "execution_count": 52,
   "metadata": {},
   "outputs": [
    {
     "name": "stdout",
     "output_type": "stream",
     "text": [
      "[(False, 'duration'), (True, 'src_bytes'), (True, 'dst_bytes'), (False, 'land'), (False, 'wrong_fragment'), (False, 'urgent'), (False, 'hot'), (False, 'num_failed_logins'), (False, 'logged_in'), (False, 'num_compromised'), (False, 'root_shell'), (False, 'su_attempted'), (False, 'num_root'), (False, 'num_file_creations'), (False, 'num_shells'), (False, 'num_access_files'), (False, 'is_guest_login'), (True, 'count'), (True, 'srv_count'), (False, 'serror_rate'), (False, 'srv_serror_rate'), (False, 'rerror_rate'), (False, 'srv_rerror_rate'), (True, 'same_srv_rate'), (True, 'diff_srv_rate'), (False, 'srv_diff_host_rate'), (False, 'dst_host_count'), (True, 'dst_host_srv_count'), (False, 'dst_host_same_srv_rate'), (True, 'dst_host_same_src_port_rate'), (True, 'dst_host_srv_diff_host_rate'), (True, 'dst_host_serror_rate'), (True, 'dst_host_srv_serror_rate'), (True, 'dst_host_rerror_rate'), (False, 'dst_host_srv_rerror_rate'), (True, 'protocol_type'), (True, 'service'), (True, 'flag')]\n"
     ]
    }
   ],
   "source": [
    "print(feature_map)"
   ]
  },
  {
   "cell_type": "code",
   "execution_count": 53,
   "metadata": {},
   "outputs": [],
   "source": [
    "selected_features = [v for i, v in feature_map if i==True]"
   ]
  },
  {
   "cell_type": "code",
   "execution_count": 54,
   "metadata": {},
   "outputs": [
    {
     "name": "stdout",
     "output_type": "stream",
     "text": [
      "['src_bytes', 'dst_bytes', 'count', 'srv_count', 'same_srv_rate', 'diff_srv_rate', 'dst_host_srv_count', 'dst_host_same_src_port_rate', 'dst_host_srv_diff_host_rate', 'dst_host_serror_rate', 'dst_host_srv_serror_rate', 'dst_host_rerror_rate', 'protocol_type', 'service', 'flag']\n"
     ]
    }
   ],
   "source": [
    " print(selected_features)"
   ]
  },
  {
   "cell_type": "code",
   "execution_count": 55,
   "metadata": {},
   "outputs": [
    {
     "data": {
      "text/plain": [
       "0                       src_bytes\n",
       "1                       dst_bytes\n",
       "2                           count\n",
       "3                       srv_count\n",
       "4                   same_srv_rate\n",
       "5                   diff_srv_rate\n",
       "6              dst_host_srv_count\n",
       "7     dst_host_same_src_port_rate\n",
       "8     dst_host_srv_diff_host_rate\n",
       "9            dst_host_serror_rate\n",
       "10       dst_host_srv_serror_rate\n",
       "11           dst_host_rerror_rate\n",
       "12                  protocol_type\n",
       "13                        service\n",
       "14                           flag\n",
       "dtype: object"
      ]
     },
     "execution_count": 55,
     "metadata": {},
     "output_type": "execute_result"
    }
   ],
   "source": [
    "pd.Series(selected_features)"
   ]
  },
  {
   "cell_type": "code",
   "execution_count": 56,
   "metadata": {},
   "outputs": [],
   "source": [
    "X.columns\n",
    "X=X[['src_bytes', 'dst_bytes', 'count', 'srv_count', 'same_srv_rate', 'diff_srv_rate', 'dst_host_count', 'dst_host_srv_count', 'dst_host_same_srv_rate', 'dst_host_same_src_port_rate', 'dst_host_serror_rate', 'dst_host_rerror_rate', 'protocol_type', 'service', 'flag']]"
   ]
  },
  {
   "cell_type": "code",
   "execution_count": 57,
   "metadata": {},
   "outputs": [
    {
     "data": {
      "text/plain": [
       "(25192, 15)"
      ]
     },
     "execution_count": 57,
     "metadata": {},
     "output_type": "execute_result"
    }
   ],
   "source": [
    "X.shape"
   ]
  },
  {
   "cell_type": "code",
   "execution_count": 58,
   "metadata": {},
   "outputs": [],
   "source": [
    "from sklearn.model_selection import train_test_split\n",
    "from sklearn import metrics\n",
    "from sklearn.metrics import r2_score\n",
    "\n",
    "X_train,X_test,y_train,y_test = train_test_split(X,y,train_size=0.70)"
   ]
  },
  {
   "cell_type": "code",
   "execution_count": 59,
   "metadata": {},
   "outputs": [
    {
     "data": {
      "text/plain": [
       "(17634, 15)"
      ]
     },
     "execution_count": 59,
     "metadata": {},
     "output_type": "execute_result"
    }
   ],
   "source": [
    "X_train.shape"
   ]
  },
  {
   "cell_type": "code",
   "execution_count": 60,
   "metadata": {},
   "outputs": [
    {
     "name": "stdout",
     "output_type": "stream",
     "text": [
      "(17634,)\n",
      "19462    0\n",
      "2864     1\n",
      "10617    0\n",
      "9191     1\n",
      "9881     1\n",
      "        ..\n",
      "25164    1\n",
      "20818    0\n",
      "6368     0\n",
      "24113    1\n",
      "12363    1\n",
      "Name: Attacks, Length: 17634, dtype: int32\n"
     ]
    }
   ],
   "source": [
    "print(y_train.shape)\n",
    "print(y_train)"
   ]
  },
  {
   "cell_type": "markdown",
   "metadata": {},
   "source": [
    "# KNeighborsClassifier"
   ]
  },
  {
   "cell_type": "code",
   "execution_count": 61,
   "metadata": {},
   "outputs": [],
   "source": [
    "from sklearn.neighbors import KNeighborsClassifier"
   ]
  },
  {
   "cell_type": "code",
   "execution_count": 62,
   "metadata": {},
   "outputs": [
    {
     "data": {
      "text/plain": [
       "KNeighborsClassifier()"
      ]
     },
     "execution_count": 62,
     "metadata": {},
     "output_type": "execute_result"
    }
   ],
   "source": [
    "KNN_Classifier = KNeighborsClassifier()\n",
    "KNN_Classifier.fit(X_train, y_train) "
   ]
  },
  {
   "cell_type": "code",
   "execution_count": 63,
   "metadata": {},
   "outputs": [
    {
     "name": "stdout",
     "output_type": "stream",
     "text": [
      "Score : 99.06%\n"
     ]
    }
   ],
   "source": [
    "score = KNN_Classifier.score(X_train, y_train)\n",
    "print('Score : %.2f%%' % (score*100))"
   ]
  },
  {
   "cell_type": "code",
   "execution_count": 64,
   "metadata": {},
   "outputs": [],
   "source": [
    "y_pred1 = KNN_Classifier.predict(X_test)"
   ]
  },
  {
   "cell_type": "code",
   "execution_count": 65,
   "metadata": {},
   "outputs": [
    {
     "name": "stdout",
     "output_type": "stream",
     "text": [
      "Accuracy - Test set: 98.49%\n"
     ]
    }
   ],
   "source": [
    "result1 = metrics.accuracy_score(y_pred1,y_test)\n",
    "result1 = (result1*100.0)\n",
    "print(\"Accuracy - Test set: %.2f%%\" % (result1))"
   ]
  },
  {
   "cell_type": "code",
   "execution_count": 66,
   "metadata": {},
   "outputs": [
    {
     "name": "stdout",
     "output_type": "stream",
     "text": [
      "              precision    recall  f1-score   support\n",
      "\n",
      "           0       1.00      0.98      0.99      2702\n",
      "           1       0.99      0.99      0.99      4045\n",
      "           2       0.94      0.99      0.96       696\n",
      "           3       0.88      0.81      0.84       115\n",
      "           4       0.00      0.00      0.00         0\n",
      "\n",
      "    accuracy                           0.98      7558\n",
      "   macro avg       0.76      0.75      0.76      7558\n",
      "weighted avg       0.99      0.98      0.99      7558\n",
      "\n",
      "[[2658   17   27    0    0]\n",
      " [   2 4006   20   13    4]\n",
      " [   1    8  687    0    0]\n",
      " [   0   21    0   93    1]\n",
      " [   0    0    0    0    0]]\n"
     ]
    },
    {
     "name": "stderr",
     "output_type": "stream",
     "text": [
      "C:\\Anaconda\\lib\\site-packages\\sklearn\\metrics\\_classification.py:1221: UndefinedMetricWarning: Recall and F-score are ill-defined and being set to 0.0 in labels with no true samples. Use `zero_division` parameter to control this behavior.\n",
      "  _warn_prf(average, modifier, msg_start, len(result))\n"
     ]
    }
   ],
   "source": [
    "from sklearn.metrics import classification_report , confusion_matrix\n",
    "print(classification_report(y_pred1,y_test))\n",
    "print(confusion_matrix(y_pred1,y_test))"
   ]
  },
  {
   "cell_type": "markdown",
   "metadata": {},
   "source": [
    "# DecisionTreeClassifier"
   ]
  },
  {
   "cell_type": "code",
   "execution_count": 67,
   "metadata": {},
   "outputs": [],
   "source": [
    "from sklearn.tree import DecisionTreeClassifier"
   ]
  },
  {
   "cell_type": "code",
   "execution_count": 68,
   "metadata": {},
   "outputs": [],
   "source": [
    "DTC = DecisionTreeClassifier(criterion=\"entropy\", max_depth = 4)"
   ]
  },
  {
   "cell_type": "code",
   "execution_count": 69,
   "metadata": {},
   "outputs": [
    {
     "data": {
      "text/plain": [
       "DecisionTreeClassifier(criterion='entropy', max_depth=4)"
      ]
     },
     "execution_count": 69,
     "metadata": {},
     "output_type": "execute_result"
    }
   ],
   "source": [
    "DTC.fit(X_train, y_train)"
   ]
  },
  {
   "cell_type": "code",
   "execution_count": 70,
   "metadata": {},
   "outputs": [
    {
     "name": "stdout",
     "output_type": "stream",
     "text": [
      "Score2 : 97.27%\n"
     ]
    }
   ],
   "source": [
    "score2 = DTC.score(X_train, y_train)\n",
    "print('Score2 : %.2f%%' % (score2*100))"
   ]
  },
  {
   "cell_type": "code",
   "execution_count": 71,
   "metadata": {},
   "outputs": [],
   "source": [
    "y_pred2 = DTC.predict(X_test)"
   ]
  },
  {
   "cell_type": "code",
   "execution_count": 72,
   "metadata": {},
   "outputs": [
    {
     "name": "stdout",
     "output_type": "stream",
     "text": [
      "Accuracy - Test set: 97.38%\n"
     ]
    }
   ],
   "source": [
    "result2 = metrics.accuracy_score(y_pred2,y_test)\n",
    "result2 = (result2*100.0)\n",
    "print(\"Accuracy - Test set: %.2f%%\" % (result2))"
   ]
  },
  {
   "cell_type": "code",
   "execution_count": 73,
   "metadata": {},
   "outputs": [
    {
     "name": "stdout",
     "output_type": "stream",
     "text": [
      "              precision    recall  f1-score   support\n",
      "\n",
      "           0       0.98      0.99      0.99      2625\n",
      "           1       0.99      0.98      0.98      4082\n",
      "           2       0.96      0.89      0.92       795\n",
      "           3       0.52      0.98      0.68        56\n",
      "           4       0.00      0.00      0.00         0\n",
      "\n",
      "    accuracy                           0.97      7558\n",
      "   macro avg       0.69      0.77      0.71      7558\n",
      "weighted avg       0.98      0.97      0.97      7558\n",
      "\n",
      "[[2604   21    0    0    0]\n",
      " [   7 3995   28   49    3]\n",
      " [  50   35  706    2    2]\n",
      " [   0    1    0   55    0]\n",
      " [   0    0    0    0    0]]\n"
     ]
    },
    {
     "name": "stderr",
     "output_type": "stream",
     "text": [
      "C:\\Anaconda\\lib\\site-packages\\sklearn\\metrics\\_classification.py:1221: UndefinedMetricWarning: Recall and F-score are ill-defined and being set to 0.0 in labels with no true samples. Use `zero_division` parameter to control this behavior.\n",
      "  _warn_prf(average, modifier, msg_start, len(result))\n"
     ]
    }
   ],
   "source": [
    "print(classification_report(y_pred2,y_test))\n",
    "print(confusion_matrix(y_pred2,y_test))"
   ]
  },
  {
   "cell_type": "markdown",
   "metadata": {},
   "source": [
    "# SVM"
   ]
  },
  {
   "cell_type": "code",
   "execution_count": 74,
   "metadata": {},
   "outputs": [],
   "source": [
    "from sklearn.svm import SVC"
   ]
  },
  {
   "cell_type": "code",
   "execution_count": 75,
   "metadata": {},
   "outputs": [],
   "source": [
    "SVM = SVC(gamma = 'scale')"
   ]
  },
  {
   "cell_type": "code",
   "execution_count": 76,
   "metadata": {},
   "outputs": [
    {
     "data": {
      "text/plain": [
       "SVC()"
      ]
     },
     "execution_count": 76,
     "metadata": {},
     "output_type": "execute_result"
    }
   ],
   "source": [
    "SVM.fit(X_train, y_train)"
   ]
  },
  {
   "cell_type": "code",
   "execution_count": 77,
   "metadata": {},
   "outputs": [
    {
     "name": "stdout",
     "output_type": "stream",
     "text": [
      "Score : 94.31%\n"
     ]
    }
   ],
   "source": [
    "score3 = SVM.score(X_train, y_train)\n",
    "print('Score : %.2f%%' % (score3*100))"
   ]
  },
  {
   "cell_type": "code",
   "execution_count": 78,
   "metadata": {},
   "outputs": [],
   "source": [
    "y_pred3 = SVM.predict(X_test)"
   ]
  },
  {
   "cell_type": "code",
   "execution_count": 79,
   "metadata": {},
   "outputs": [
    {
     "name": "stdout",
     "output_type": "stream",
     "text": [
      "Accuracy - Test set: 94.48%\n"
     ]
    }
   ],
   "source": [
    "result3 = metrics.accuracy_score(y_pred3,y_test)\n",
    "result3 = (result3*100.0)\n",
    "print(\"Accuracy - Test set: %.2f%%\" % (result3))"
   ]
  },
  {
   "cell_type": "code",
   "execution_count": 80,
   "metadata": {},
   "outputs": [
    {
     "name": "stdout",
     "output_type": "stream",
     "text": [
      "              precision    recall  f1-score   support\n",
      "\n",
      "           0       0.97      0.97      0.97      2668\n",
      "           1       0.99      0.93      0.96      4291\n",
      "           2       0.75      0.93      0.83       597\n",
      "           3       0.02      1.00      0.04         2\n",
      "           4       0.00      0.00      0.00         0\n",
      "\n",
      "    accuracy                           0.94      7558\n",
      "   macro avg       0.55      0.77      0.56      7558\n",
      "weighted avg       0.96      0.94      0.95      7558\n",
      "\n",
      "[[2587   19   59    3    0]\n",
      " [  66 3998  121  101    5]\n",
      " [   8   35  554    0    0]\n",
      " [   0    0    0    2    0]\n",
      " [   0    0    0    0    0]]\n"
     ]
    },
    {
     "name": "stderr",
     "output_type": "stream",
     "text": [
      "C:\\Anaconda\\lib\\site-packages\\sklearn\\metrics\\_classification.py:1221: UndefinedMetricWarning: Recall and F-score are ill-defined and being set to 0.0 in labels with no true samples. Use `zero_division` parameter to control this behavior.\n",
      "  _warn_prf(average, modifier, msg_start, len(result))\n"
     ]
    }
   ],
   "source": [
    "print(classification_report(y_pred3,y_test))\n",
    "print(confusion_matrix(y_pred3,y_test))"
   ]
  },
  {
   "cell_type": "markdown",
   "metadata": {},
   "source": [
    "# GradientBoostingClassifier"
   ]
  },
  {
   "cell_type": "code",
   "execution_count": 81,
   "metadata": {},
   "outputs": [],
   "source": [
    "from sklearn.ensemble import GradientBoostingClassifier"
   ]
  },
  {
   "cell_type": "code",
   "execution_count": 82,
   "metadata": {},
   "outputs": [],
   "source": [
    "GBC = GradientBoostingClassifier(random_state=0)"
   ]
  },
  {
   "cell_type": "code",
   "execution_count": 83,
   "metadata": {},
   "outputs": [
    {
     "data": {
      "text/plain": [
       "GradientBoostingClassifier(random_state=0)"
      ]
     },
     "execution_count": 83,
     "metadata": {},
     "output_type": "execute_result"
    }
   ],
   "source": [
    "GBC.fit(X_train, y_train)"
   ]
  },
  {
   "cell_type": "code",
   "execution_count": 84,
   "metadata": {},
   "outputs": [
    {
     "name": "stdout",
     "output_type": "stream",
     "text": [
      "Score : 99.94%\n"
     ]
    }
   ],
   "source": [
    "score4 = GBC.score(X_train, y_train)\n",
    "print('Score : %.2f%%' % (score4*100))"
   ]
  },
  {
   "cell_type": "code",
   "execution_count": 85,
   "metadata": {},
   "outputs": [],
   "source": [
    "y_pred4 = GBC.predict(X_test)"
   ]
  },
  {
   "cell_type": "code",
   "execution_count": 86,
   "metadata": {},
   "outputs": [
    {
     "name": "stdout",
     "output_type": "stream",
     "text": [
      "Accuracy - Test set: 99.58%\n"
     ]
    }
   ],
   "source": [
    "result4 = metrics.accuracy_score(y_pred4,y_test)\n",
    "result4 = (result4*100.0)\n",
    "print(\"Accuracy - Test set: %.2f%%\" % (result4))"
   ]
  },
  {
   "cell_type": "code",
   "execution_count": 87,
   "metadata": {},
   "outputs": [
    {
     "name": "stdout",
     "output_type": "stream",
     "text": [
      "              precision    recall  f1-score   support\n",
      "\n",
      "           0       1.00      1.00      1.00      2658\n",
      "           1       1.00      0.99      1.00      4069\n",
      "           2       0.99      0.99      0.99       733\n",
      "           3       0.90      0.99      0.94        96\n",
      "           4       0.40      1.00      0.57         2\n",
      "\n",
      "    accuracy                           1.00      7558\n",
      "   macro avg       0.86      0.99      0.90      7558\n",
      "weighted avg       1.00      1.00      1.00      7558\n",
      "\n",
      "[[2658    0    0    0    0]\n",
      " [   2 4046    9   11    1]\n",
      " [   1    5  725    0    2]\n",
      " [   0    1    0   95    0]\n",
      " [   0    0    0    0    2]]\n"
     ]
    }
   ],
   "source": [
    "print(classification_report(y_pred4,y_test))\n",
    "print(confusion_matrix(y_pred4,y_test))"
   ]
  },
  {
   "cell_type": "markdown",
   "metadata": {},
   "source": [
    "\n",
    "# Artificial Neural Network\n"
   ]
  },
  {
   "cell_type": "code",
   "execution_count": 110,
   "metadata": {},
   "outputs": [],
   "source": [
    "from keras.models import Sequential\n",
    "from keras.layers import Dense\n",
    "from keras.wrappers.scikit_learn import KerasClassifier\n",
    "from sklearn.metrics import accuracy_score"
   ]
  },
  {
   "cell_type": "code",
   "execution_count": 96,
   "metadata": {},
   "outputs": [
    {
     "name": "stdout",
     "output_type": "stream",
     "text": [
      "2.3.1\n",
      "2.4.0\n"
     ]
    }
   ],
   "source": [
    "print(tf.__version__)\n",
    "print(keras.__version__)"
   ]
  },
  {
   "cell_type": "code",
   "execution_count": 100,
   "metadata": {},
   "outputs": [],
   "source": [
    "def fun():\n",
    "    model = Sequential()\n",
    "    \n",
    "    #here 30 is output dimension\n",
    "    model.add(Dense(15,input_dim =15,activation = 'relu',kernel_initializer='random_uniform'))\n",
    "    \n",
    "    #in next layer we do not specify the input_dim as the model is sequential so output of previous layer is input to next layer\n",
    "    model.add(Dense(1,activation='sigmoid',kernel_initializer='random_uniform'))\n",
    "    \n",
    "    #5 classes-normal,dos,probe,r2l,u2r\n",
    "    model.add(Dense(5,activation='softmax'))\n",
    "    \n",
    "    #loss is categorical_crossentropy which specifies that we have multiple classes\n",
    "    \n",
    "    model.compile(loss ='categorical_crossentropy',optimizer = 'adam',metrics = ['accuracy'])\n",
    "    \n",
    "    return model"
   ]
  },
  {
   "cell_type": "code",
   "execution_count": 101,
   "metadata": {},
   "outputs": [],
   "source": [
    "ANN = KerasClassifier(build_fn=fun,epochs=100,batch_size=64)"
   ]
  },
  {
   "cell_type": "code",
   "execution_count": 102,
   "metadata": {},
   "outputs": [
    {
     "name": "stdout",
     "output_type": "stream",
     "text": [
      "Epoch 1/100\n",
      "276/276 [==============================] - 0s 2ms/step - loss: 1.5182 - accuracy: 0.3820\n",
      "Epoch 2/100\n",
      "276/276 [==============================] - 0s 2ms/step - loss: 1.3178 - accuracy: 0.5329\n",
      "Epoch 3/100\n",
      "276/276 [==============================] - 0s 2ms/step - loss: 1.1440 - accuracy: 0.5329\n",
      "Epoch 4/100\n",
      "276/276 [==============================] - 0s 2ms/step - loss: 0.9447 - accuracy: 0.7239\n",
      "Epoch 5/100\n",
      "276/276 [==============================] - 0s 2ms/step - loss: 0.7593 - accuracy: 0.8740\n",
      "Epoch 6/100\n",
      "276/276 [==============================] - 0s 2ms/step - loss: 0.6684 - accuracy: 0.8777\n",
      "Epoch 7/100\n",
      "276/276 [==============================] - 0s 2ms/step - loss: 0.6106 - accuracy: 0.8776\n",
      "Epoch 8/100\n",
      "276/276 [==============================] - 0s 2ms/step - loss: 0.5677 - accuracy: 0.8775\n",
      "Epoch 9/100\n",
      "276/276 [==============================] - 0s 2ms/step - loss: 0.5342 - accuracy: 0.8775\n",
      "Epoch 10/100\n",
      "276/276 [==============================] - 0s 2ms/step - loss: 0.5057 - accuracy: 0.8774\n",
      "Epoch 11/100\n",
      "276/276 [==============================] - 0s 2ms/step - loss: 0.4825 - accuracy: 0.8782\n",
      "Epoch 12/100\n",
      "276/276 [==============================] - 0s 2ms/step - loss: 0.4627 - accuracy: 0.8785\n",
      "Epoch 13/100\n",
      "276/276 [==============================] - 0s 2ms/step - loss: 0.4450 - accuracy: 0.8780\n",
      "Epoch 14/100\n",
      "276/276 [==============================] - 0s 2ms/step - loss: 0.4304 - accuracy: 0.8780\n",
      "Epoch 15/100\n",
      "276/276 [==============================] - 0s 2ms/step - loss: 0.4166 - accuracy: 0.8788\n",
      "Epoch 16/100\n",
      "276/276 [==============================] - 0s 2ms/step - loss: 0.4051 - accuracy: 0.8799\n",
      "Epoch 17/100\n",
      "276/276 [==============================] - 0s 2ms/step - loss: 0.3941 - accuracy: 0.8801\n",
      "Epoch 18/100\n",
      "276/276 [==============================] - 0s 2ms/step - loss: 0.3851 - accuracy: 0.8807\n",
      "Epoch 19/100\n",
      "276/276 [==============================] - 0s 2ms/step - loss: 0.3757 - accuracy: 0.8823\n",
      "Epoch 20/100\n",
      "276/276 [==============================] - 0s 2ms/step - loss: 0.3674 - accuracy: 0.8816\n",
      "Epoch 21/100\n",
      "276/276 [==============================] - 0s 2ms/step - loss: 0.3602 - accuracy: 0.8831\n",
      "Epoch 22/100\n",
      "276/276 [==============================] - 0s 2ms/step - loss: 0.3537 - accuracy: 0.8828\n",
      "Epoch 23/100\n",
      "276/276 [==============================] - 0s 2ms/step - loss: 0.3476 - accuracy: 0.8838\n",
      "Epoch 24/100\n",
      "276/276 [==============================] - 0s 2ms/step - loss: 0.3426 - accuracy: 0.8843\n",
      "Epoch 25/100\n",
      "276/276 [==============================] - 0s 2ms/step - loss: 0.3375 - accuracy: 0.8850\n",
      "Epoch 26/100\n",
      "276/276 [==============================] - 1s 2ms/step - loss: 0.3324 - accuracy: 0.8851\n",
      "Epoch 27/100\n",
      "276/276 [==============================] - 1s 2ms/step - loss: 0.3275 - accuracy: 0.8856\n",
      "Epoch 28/100\n",
      "276/276 [==============================] - 0s 2ms/step - loss: 0.3237 - accuracy: 0.8858\n",
      "Epoch 29/100\n",
      "276/276 [==============================] - 0s 2ms/step - loss: 0.3195 - accuracy: 0.8862\n",
      "Epoch 30/100\n",
      "276/276 [==============================] - 0s 2ms/step - loss: 0.3154 - accuracy: 0.8864\n",
      "Epoch 31/100\n",
      "276/276 [==============================] - 0s 2ms/step - loss: 0.3119 - accuracy: 0.8866\n",
      "Epoch 32/100\n",
      "276/276 [==============================] - 0s 2ms/step - loss: 0.3087 - accuracy: 0.8874\n",
      "Epoch 33/100\n",
      "276/276 [==============================] - 0s 2ms/step - loss: 0.3060 - accuracy: 0.8922\n",
      "Epoch 34/100\n",
      "276/276 [==============================] - 0s 2ms/step - loss: 0.3020 - accuracy: 0.9036\n",
      "Epoch 35/100\n",
      "276/276 [==============================] - 0s 2ms/step - loss: 0.2996 - accuracy: 0.9043\n",
      "Epoch 36/100\n",
      "276/276 [==============================] - 0s 2ms/step - loss: 0.2963 - accuracy: 0.9178\n",
      "Epoch 37/100\n",
      "276/276 [==============================] - 0s 2ms/step - loss: 0.2928 - accuracy: 0.9192\n",
      "Epoch 38/100\n",
      "276/276 [==============================] - 0s 2ms/step - loss: 0.2909 - accuracy: 0.9185\n",
      "Epoch 39/100\n",
      "276/276 [==============================] - 0s 2ms/step - loss: 0.2877 - accuracy: 0.9255\n",
      "Epoch 40/100\n",
      "276/276 [==============================] - 0s 2ms/step - loss: 0.2839 - accuracy: 0.9268\n",
      "Epoch 41/100\n",
      "276/276 [==============================] - 0s 2ms/step - loss: 0.2784 - accuracy: 0.9267\n",
      "Epoch 42/100\n",
      "276/276 [==============================] - 0s 2ms/step - loss: 0.2638 - accuracy: 0.9309\n",
      "Epoch 43/100\n",
      "276/276 [==============================] - 0s 2ms/step - loss: 0.2574 - accuracy: 0.9359\n",
      "Epoch 44/100\n",
      "276/276 [==============================] - 0s 2ms/step - loss: 0.2537 - accuracy: 0.9414\n",
      "Epoch 45/100\n",
      "276/276 [==============================] - 0s 2ms/step - loss: 0.2504 - accuracy: 0.9429\n",
      "Epoch 46/100\n",
      "276/276 [==============================] - 0s 2ms/step - loss: 0.2471 - accuracy: 0.9452\n",
      "Epoch 47/100\n",
      "276/276 [==============================] - 0s 2ms/step - loss: 0.2443 - accuracy: 0.9441\n",
      "Epoch 48/100\n",
      "276/276 [==============================] - 0s 2ms/step - loss: 0.2416 - accuracy: 0.9479\n",
      "Epoch 49/100\n",
      "276/276 [==============================] - 0s 2ms/step - loss: 0.2404 - accuracy: 0.9445\n",
      "Epoch 50/100\n",
      "276/276 [==============================] - 0s 2ms/step - loss: 0.2360 - accuracy: 0.9479\n",
      "Epoch 51/100\n",
      "276/276 [==============================] - 0s 2ms/step - loss: 0.2336 - accuracy: 0.9493\n",
      "Epoch 52/100\n",
      "276/276 [==============================] - 0s 2ms/step - loss: 0.2319 - accuracy: 0.9495\n",
      "Epoch 53/100\n",
      "276/276 [==============================] - 1s 2ms/step - loss: 0.2303 - accuracy: 0.9505\n",
      "Epoch 54/100\n",
      "276/276 [==============================] - 1s 2ms/step - loss: 0.2273 - accuracy: 0.9511\n",
      "Epoch 55/100\n",
      "276/276 [==============================] - 1s 2ms/step - loss: 0.2250 - accuracy: 0.9515\n",
      "Epoch 56/100\n",
      "276/276 [==============================] - 1s 2ms/step - loss: 0.2225 - accuracy: 0.9524\n",
      "Epoch 57/100\n",
      "276/276 [==============================] - 0s 2ms/step - loss: 0.2220 - accuracy: 0.9511\n",
      "Epoch 58/100\n",
      "276/276 [==============================] - 0s 2ms/step - loss: 0.2201 - accuracy: 0.9512\n",
      "Epoch 59/100\n",
      "276/276 [==============================] - 0s 2ms/step - loss: 0.2179 - accuracy: 0.9526\n",
      "Epoch 60/100\n",
      "276/276 [==============================] - 0s 2ms/step - loss: 0.2162 - accuracy: 0.9527\n",
      "Epoch 61/100\n",
      "276/276 [==============================] - 0s 2ms/step - loss: 0.2148 - accuracy: 0.9521\n",
      "Epoch 62/100\n",
      "276/276 [==============================] - 0s 2ms/step - loss: 0.2136 - accuracy: 0.9532\n",
      "Epoch 63/100\n",
      "276/276 [==============================] - 0s 2ms/step - loss: 0.2121 - accuracy: 0.9540\n",
      "Epoch 64/100\n",
      "276/276 [==============================] - 0s 2ms/step - loss: 0.2090 - accuracy: 0.9557\n",
      "Epoch 65/100\n",
      "276/276 [==============================] - 0s 2ms/step - loss: 0.2087 - accuracy: 0.9530\n",
      "Epoch 66/100\n",
      "276/276 [==============================] - 0s 2ms/step - loss: 0.2088 - accuracy: 0.9521\n",
      "Epoch 67/100\n",
      "276/276 [==============================] - 0s 2ms/step - loss: 0.2079 - accuracy: 0.9534\n",
      "Epoch 68/100\n",
      "276/276 [==============================] - 0s 2ms/step - loss: 0.2039 - accuracy: 0.9547\n",
      "Epoch 69/100\n",
      "276/276 [==============================] - 0s 2ms/step - loss: 0.2042 - accuracy: 0.9545\n",
      "Epoch 70/100\n",
      "276/276 [==============================] - 0s 2ms/step - loss: 0.2023 - accuracy: 0.9542\n",
      "Epoch 71/100\n",
      "276/276 [==============================] - 0s 2ms/step - loss: 0.2021 - accuracy: 0.9538\n",
      "Epoch 72/100\n",
      "276/276 [==============================] - 0s 2ms/step - loss: 0.2005 - accuracy: 0.9549\n",
      "Epoch 73/100\n",
      "276/276 [==============================] - 0s 2ms/step - loss: 0.1979 - accuracy: 0.9562\n",
      "Epoch 74/100\n",
      "276/276 [==============================] - 0s 2ms/step - loss: 0.1977 - accuracy: 0.9547\n",
      "Epoch 75/100\n",
      "276/276 [==============================] - 0s 2ms/step - loss: 0.1974 - accuracy: 0.9542\n",
      "Epoch 76/100\n",
      "276/276 [==============================] - 0s 2ms/step - loss: 0.1973 - accuracy: 0.9554\n",
      "Epoch 77/100\n",
      "276/276 [==============================] - 0s 2ms/step - loss: 0.1953 - accuracy: 0.9554\n",
      "Epoch 78/100\n",
      "276/276 [==============================] - 0s 2ms/step - loss: 0.1934 - accuracy: 0.9556\n",
      "Epoch 79/100\n",
      "276/276 [==============================] - 0s 2ms/step - loss: 0.1941 - accuracy: 0.9552\n",
      "Epoch 80/100\n",
      "276/276 [==============================] - 0s 2ms/step - loss: 0.1933 - accuracy: 0.9555\n",
      "Epoch 81/100\n",
      "276/276 [==============================] - 0s 2ms/step - loss: 0.1912 - accuracy: 0.9555\n",
      "Epoch 82/100\n",
      "276/276 [==============================] - 0s 2ms/step - loss: 0.1907 - accuracy: 0.9562\n",
      "Epoch 83/100\n",
      "276/276 [==============================] - 0s 2ms/step - loss: 0.1887 - accuracy: 0.9559\n",
      "Epoch 84/100\n",
      "276/276 [==============================] - 0s 2ms/step - loss: 0.1886 - accuracy: 0.9572\n",
      "Epoch 85/100\n",
      "276/276 [==============================] - 0s 2ms/step - loss: 0.1886 - accuracy: 0.9570\n",
      "Epoch 86/100\n",
      "276/276 [==============================] - 0s 2ms/step - loss: 0.1882 - accuracy: 0.9565\n",
      "Epoch 87/100\n",
      "276/276 [==============================] - 0s 2ms/step - loss: 0.1875 - accuracy: 0.9563\n",
      "Epoch 88/100\n",
      "276/276 [==============================] - 1s 2ms/step - loss: 0.1859 - accuracy: 0.9571\n",
      "Epoch 89/100\n",
      "276/276 [==============================] - 1s 2ms/step - loss: 0.1857 - accuracy: 0.9562\n",
      "Epoch 90/100\n",
      "276/276 [==============================] - 1s 2ms/step - loss: 0.1837 - accuracy: 0.9583\n",
      "Epoch 91/100\n",
      "276/276 [==============================] - 0s 2ms/step - loss: 0.1845 - accuracy: 0.9568\n",
      "Epoch 92/100\n",
      "276/276 [==============================] - 1s 2ms/step - loss: 0.1853 - accuracy: 0.9550\n",
      "Epoch 93/100\n",
      "276/276 [==============================] - 1s 2ms/step - loss: 0.1829 - accuracy: 0.9576\n",
      "Epoch 94/100\n",
      "276/276 [==============================] - 1s 2ms/step - loss: 0.1832 - accuracy: 0.9571\n",
      "Epoch 95/100\n",
      "276/276 [==============================] - 1s 2ms/step - loss: 0.1812 - accuracy: 0.9583\n",
      "Epoch 96/100\n",
      "276/276 [==============================] - 1s 2ms/step - loss: 0.1797 - accuracy: 0.9580\n",
      "Epoch 97/100\n",
      "276/276 [==============================] - 0s 2ms/step - loss: 0.1814 - accuracy: 0.9575\n",
      "Epoch 98/100\n",
      "276/276 [==============================] - 0s 2ms/step - loss: 0.1807 - accuracy: 0.9572\n",
      "Epoch 99/100\n",
      "276/276 [==============================] - 1s 2ms/step - loss: 0.1787 - accuracy: 0.9576\n",
      "Epoch 100/100\n",
      "276/276 [==============================] - 0s 2ms/step - loss: 0.1783 - accuracy: 0.9580\n"
     ]
    },
    {
     "data": {
      "text/plain": [
       "<tensorflow.python.keras.callbacks.History at 0x1e7b58c8bb0>"
      ]
     },
     "execution_count": 102,
     "metadata": {},
     "output_type": "execute_result"
    }
   ],
   "source": [
    "ANN.fit(X_train, y_train.values.ravel())"
   ]
  },
  {
   "cell_type": "code",
   "execution_count": 116,
   "metadata": {},
   "outputs": [],
   "source": [
    "y_pred5 = ANN.predict(X_test)"
   ]
  },
  {
   "cell_type": "code",
   "execution_count": 119,
   "metadata": {},
   "outputs": [
    {
     "name": "stdout",
     "output_type": "stream",
     "text": [
      "Accuracy - Test set: 96.19%\n"
     ]
    }
   ],
   "source": [
    "result5 = accuracy_score(y_test,Y_test_pred7)\n",
    "result5 = (result5*100)\n",
    "print(\"Accuracy - Test set: %.2f%%\" % (result5))"
   ]
  },
  {
   "cell_type": "code",
   "execution_count": 118,
   "metadata": {},
   "outputs": [
    {
     "name": "stdout",
     "output_type": "stream",
     "text": [
      "              precision    recall  f1-score   support\n",
      "\n",
      "           0       0.99      0.99      0.99      2648\n",
      "           1       0.99      0.96      0.97      4162\n",
      "           2       0.89      0.87      0.88       748\n",
      "           3       0.00      0.00      0.00         0\n",
      "           4       0.00      0.00      0.00         0\n",
      "\n",
      "    accuracy                           0.96      7558\n",
      "   macro avg       0.57      0.56      0.57      7558\n",
      "weighted avg       0.98      0.96      0.97      7558\n",
      "\n",
      "[[2624    2   22    0    0]\n",
      " [   2 3993   59  103    5]\n",
      " [  35   57  653    3    0]\n",
      " [   0    0    0    0    0]\n",
      " [   0    0    0    0    0]]\n"
     ]
    },
    {
     "name": "stderr",
     "output_type": "stream",
     "text": [
      "C:\\Anaconda\\lib\\site-packages\\sklearn\\metrics\\_classification.py:1221: UndefinedMetricWarning: Recall and F-score are ill-defined and being set to 0.0 in labels with no true samples. Use `zero_division` parameter to control this behavior.\n",
      "  _warn_prf(average, modifier, msg_start, len(result))\n"
     ]
    }
   ],
   "source": [
    "print(classification_report(y_pred5,y_test))\n",
    "print(confusion_matrix(y_pred5,y_test))"
   ]
  },
  {
   "cell_type": "code",
   "execution_count": 120,
   "metadata": {},
   "outputs": [
    {
     "data": {
      "text/plain": [
       "<BarContainer object of 5 artists>"
      ]
     },
     "execution_count": 120,
     "metadata": {},
     "output_type": "execute_result"
    },
    {
     "data": {
      "image/png": "[encoded data removed]",
      "text/plain": [
       "<Figure size 1080x216 with 1 Axes>"
      ]
     },
     "metadata": {
      "needs_background": "light"
     },
     "output_type": "display_data"
    }
   ],
   "source": [
    "names = ['KNN','DT','SVM','GB','ANN']\n",
    "values = [98.49,97.38, 94.48, 99.58, 96.19]\n",
    "f = plt.figure(figsize=(15,3),num=10)\n",
    "plt.subplot(131)\n",
    "plt.ylim(80,102)\n",
    "plt.bar(names,values)"
   ]
  },
  {
   "cell_type": "code",
   "execution_count": null,
   "metadata": {},
   "outputs": [],
   "source": []
  }
 ],
 "metadata": {
  "kernelspec": {
   "display_name": "Python 3",
   "language": "python",
   "name": "python3"
  },
  "language_info": {
   "codemirror_mode": {
    "name": "ipython",
    "version": 3
   },
   "file_extension": ".py",
   "mimetype": "text/x-python",
   "name": "python",
   "nbconvert_exporter": "python",
   "pygments_lexer": "ipython3",
   "version": "3.8.3"
  }
 },
 "nbformat": 4,
 "nbformat_minor": 2
}
